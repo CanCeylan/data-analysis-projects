{
 "cells": [
  {
   "cell_type": "code",
   "execution_count": 58,
   "metadata": {
    "collapsed": true
   },
   "outputs": [],
   "source": [
    "import numpy as np\n",
    "import random\n",
    "import matplotlib.pyplot as plt\n",
    "%matplotlib inline\n",
    "import scipy.stats as stats"
   ]
  },
  {
   "cell_type": "code",
   "execution_count": 67,
   "metadata": {
    "collapsed": true
   },
   "outputs": [],
   "source": [
    "np.random.seed(1)  # for reproducibility\n",
    "theta_true = [\n",
    "(100, 10),\n",
    "(140, 10)]\n",
    "\n",
    "# Number of observations in each group\n",
    "N = [30, 25]\n",
    "\n",
    "MAX_N = 5000"
   ]
  },
  {
   "cell_type": "code",
   "execution_count": 9,
   "metadata": {
    "collapsed": false
   },
   "outputs": [
    {
     "name": "stdout",
     "output_type": "stream",
     "text": [
      "[(100, 10), (80, 20), (140, 10)]\n",
      "[30, 15, 20]\n"
     ]
    }
   ],
   "source": [
    "print(theta_true)\n",
    "print(N)"
   ]
  },
  {
   "cell_type": "code",
   "execution_count": 69,
   "metadata": {
    "collapsed": false
   },
   "outputs": [
    {
     "data": {
      "text/plain": [
       "{'group_0': array([ 116.24345364,   93.88243586,   94.71828248,   89.27031378,\n",
       "         108.65407629,   76.98461303,  117.44811764,   92.38793099,\n",
       "         103.19039096,   97.50629625,  114.62107937,   79.39859291,\n",
       "          96.77582796,   96.15945645,  111.33769442,   89.00108733,\n",
       "          98.27571792,   91.22141582,  100.42213747,  105.82815214,\n",
       "          88.99380823,  111.4472371 ,  109.01590721,  105.02494339,\n",
       "         109.00855949,   93.16272141,   98.77109774,   90.64230566,\n",
       "          97.3211192 ,  105.30355467]),\n",
       " 'group_1': array([ 133.08339248,  136.03246473,  133.128273  ,  131.54794359,\n",
       "         133.28753869,  139.87335401,  128.82689651,  142.34415698,\n",
       "         156.59802177,  147.42044161,  138.08164448,  131.12371036,\n",
       "         132.52841706,  156.92454601,  140.50807755,  133.63004353,\n",
       "         141.90915485,  161.00255136,  141.20158952,  146.1720311 ,\n",
       "         143.0017032 ,  136.47750154,  128.57481802,  136.50657278,\n",
       "         137.91105767])}"
      ]
     },
     "execution_count": 69,
     "metadata": {},
     "output_type": "execute_result"
    }
   ],
   "source": [
    "data = {\"group_{}\".format(i): np.random.normal(loc=theta_true[i][0], scale=theta_true[i][1], size=N[i])\n",
    "       for i in range(len(theta_true))}\n",
    "data"
   ]
  },
  {
   "cell_type": "code",
   "execution_count": 45,
   "metadata": {
    "collapsed": false
   },
   "outputs": [],
   "source": [
    "for k, v in data.items():\n",
    "  if len(v) > MAX_N:\n",
    "    print(\"Group {} is too large (N={}). Randomly choosing {} samples.\".format(k, len(v), MAX_N))\n",
    "    data[k] = [random.choice(v) for _ in range(MAX_N)]"
   ]
  },
  {
   "cell_type": "code",
   "execution_count": 35,
   "metadata": {
    "collapsed": false
   },
   "outputs": [
    {
     "name": "stdout",
     "output_type": "stream",
     "text": [
      "group_2\n",
      "[133.82637936287639, 146.80069839878104, 146.59049796100211, 145.03184813435325, 137.12692136523981, 146.59049796100211, 145.03184813435325, 151.60338569993769, 142.40737092237731, 146.59049796100211]\n",
      "group_1\n",
      "[42.072781542178149, 80.873379863567777, 89.904226479559213, 74.067176952582741, 89.904226479559213, 75.027304445690802, 130.56651413612798, 99.72670375642484, 74.067176952582741, 89.904226479559213]\n",
      "group_0\n",
      "[108.01861031871344, 93.764692703202087, 88.779812712531111, 104.41364443568582, 98.19079697921849, 110.38824601859415, 98.809458122251897, 87.699418643330375, 98.19079697921849, 102.32494559178738]\n"
     ]
    }
   ],
   "source": [
    "for k,v in data.items():\n",
    "    print(k)\n",
    "    print(v)"
   ]
  },
  {
   "cell_type": "code",
   "execution_count": 33,
   "metadata": {
    "collapsed": false
   },
   "outputs": [
    {
     "data": {
      "text/plain": [
       "[108.01861031871344,\n",
       " 93.960793722067422,\n",
       " 104.41364443568582,\n",
       " 88.779812712531111,\n",
       " 100.77821127912706,\n",
       " 104.41364443568582,\n",
       " 75.65162235892862,\n",
       " 88.779812712531111,\n",
       " 107.92806865919347,\n",
       " 106.82551406864485]"
      ]
     },
     "execution_count": 33,
     "metadata": {},
     "output_type": "execute_result"
    }
   ],
   "source": [
    "[random.choice(v) for _ in range(MAX_N)]"
   ]
  },
  {
   "cell_type": "code",
   "execution_count": 46,
   "metadata": {
    "collapsed": false
   },
   "outputs": [
    {
     "data": {
      "text/plain": [
       "[('group_2', 20), ('group_1', 15), ('group_0', 30)]"
      ]
     },
     "execution_count": 46,
     "metadata": {},
     "output_type": "execute_result"
    }
   ],
   "source": [
    "sample_sizes = [(k, len(v)) for k, v in data.items()]\n",
    "sample_sizes"
   ]
  },
  {
   "cell_type": "code",
   "execution_count": 49,
   "metadata": {
    "collapsed": false
   },
   "outputs": [
    {
     "name": "stdout",
     "output_type": "stream",
     "text": [
      "0\n",
      "('group_0', array([ 116.24345364,   93.88243586,   94.71828248,   89.27031378,\n",
      "        108.65407629,   76.98461303,  117.44811764,   92.38793099,\n",
      "        103.19039096,   97.50629625,  114.62107937,   79.39859291,\n",
      "         96.77582796,   96.15945645,  111.33769442,   89.00108733,\n",
      "         98.27571792,   91.22141582,  100.42213747,  105.82815214,\n",
      "         88.99380823,  111.4472371 ,  109.01590721,  105.02494339,\n",
      "        109.00855949,   93.16272141,   98.77109774,   90.64230566,\n",
      "         97.3211192 ,  105.30355467]))\n",
      "1\n",
      "('group_1', array([  66.16678497,   72.06492946,   66.256546  ,   63.09588717,\n",
      "         66.57507738,   79.74670802,   57.65379303,   84.68831396,\n",
      "        113.19604354,   94.84088321,   76.16328895,   62.24742072,\n",
      "         65.05683412,  113.84909202,   81.0161551 ]))\n",
      "2\n",
      "('group_2', array([ 133.63004353,  141.90915485,  161.00255136,  141.20158952,\n",
      "        146.1720311 ,  143.0017032 ,  136.47750154,  128.57481802,\n",
      "        136.50657278,  137.91105767,  145.86623191,  148.38983414,\n",
      "        149.31102081,  142.85587325,  148.85141164,  132.45602059,\n",
      "        152.52868155,  145.1292982 ,  137.01907165,  144.88518147]))\n"
     ]
    }
   ],
   "source": [
    "import operator\n",
    "\n",
    "for i, group in enumerate(sorted(data.items(), key=operator.itemgetter(0))):\n",
    "    print(i)\n",
    "    print(group)"
   ]
  },
  {
   "cell_type": "code",
   "execution_count": 70,
   "metadata": {
    "collapsed": false
   },
   "outputs": [
    {
     "data": {
      "image/png": "[encoded data removed]",
      "text/plain": [
       "<matplotlib.figure.Figure at 0x112d71290>"
      ]
     },
     "execution_count": 70,
     "metadata": {},
     "output_type": "execute_result"
    },
    {
     "data": {
      "image/png": "[encoded data removed]",
      "text/plain": [
       "<matplotlib.figure.Figure at 0x112d71290>"
      ]
     },
     "metadata": {},
     "output_type": "display_data"
    }
   ],
   "source": [
    "# Measurement errors\n",
    "\n",
    "fig, ax = plt.subplots(1, len(data))\n",
    "\n",
    "import operator\n",
    "\n",
    "for i, group in enumerate(sorted(data.items(), key=operator.itemgetter(0))):\n",
    "  group_name, group_obs = group\n",
    "  e = np.std(group_obs)\n",
    "  m = np.mean(group_obs)\n",
    "  ax[i].errorbar(data[group_name], np.arange(len(group_obs)), fmt='ok', ecolor='gray', alpha=0.5)\n",
    "  ax[i].vlines([m], 0, len(group_obs), linewidth=5, alpha=0.2)\n",
    "  ax[i].set_xlabel(\"Measured value\");\n",
    "  ax[i].set_title(\"Group {} (N={})\".format(group_name, len(group_obs)));\n",
    "  \n",
    "fig"
   ]
  },
  {
   "cell_type": "code",
   "execution_count": null,
   "metadata": {
    "collapsed": true
   },
   "outputs": [],
   "source": []
  }
 ],
 "metadata": {
  "anaconda-cloud": {},
  "kernelspec": {
   "display_name": "Python [Root]",
   "language": "python",
   "name": "Python [Root]"
  },
  "language_info": {
   "codemirror_mode": {
    "name": "ipython",
    "version": 2
   },
   "file_extension": ".py",
   "mimetype": "text/x-python",
   "name": "python",
   "nbconvert_exporter": "python",
   "pygments_lexer": "ipython2",
   "version": "2.7.12"
  }
 },
 "nbformat": 4,
 "nbformat_minor": 0
}
