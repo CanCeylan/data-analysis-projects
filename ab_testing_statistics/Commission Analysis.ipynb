{
 "cells": [
  {
   "cell_type": "code",
   "execution_count": 56,
   "metadata": {
    "collapsed": false
   },
   "outputs": [],
   "source": [
    "import pandas as pd\n",
    "import numpy as np\n",
    "import matplotlib\n",
    "import matplotlib.pyplot as plt\n",
    "%matplotlib inline\n",
    "matplotlib.style.use('ggplot')\n",
    "from matplotlib import pyplot"
   ]
  },
  {
   "cell_type": "code",
   "execution_count": 5,
   "metadata": {
    "collapsed": false
   },
   "outputs": [
    {
     "data": {
      "text/html": [
       "<div>\n",
       "<table border=\"1\" class=\"dataframe\">\n",
       "  <thead>\n",
       "    <tr style=\"text-align: right;\">\n",
       "      <th></th>\n",
       "      <th>date</th>\n",
       "      <th>session_id</th>\n",
       "      <th>experiment_id</th>\n",
       "      <th>experiment_variation_id</th>\n",
       "      <th>commission</th>\n",
       "    </tr>\n",
       "  </thead>\n",
       "  <tbody>\n",
       "    <tr>\n",
       "      <th>0</th>\n",
       "      <td>2/16/2017</td>\n",
       "      <td>0405caaf-5359-4ca7-bdc8-b2f41787322a</td>\n",
       "      <td>reho1</td>\n",
       "      <td>_original_</td>\n",
       "      <td>35.23</td>\n",
       "    </tr>\n",
       "    <tr>\n",
       "      <th>1</th>\n",
       "      <td>2/16/2017</td>\n",
       "      <td>141ea190-c7db-4daf-8564-a2e24d2f68a5</td>\n",
       "      <td>reho1</td>\n",
       "      <td>_original_</td>\n",
       "      <td>17.63</td>\n",
       "    </tr>\n",
       "    <tr>\n",
       "      <th>2</th>\n",
       "      <td>2/16/2017</td>\n",
       "      <td>25d18b51-67a7-4ac0-af39-bb7157ddb408</td>\n",
       "      <td>reho1</td>\n",
       "      <td>_original_</td>\n",
       "      <td>9.16</td>\n",
       "    </tr>\n",
       "    <tr>\n",
       "      <th>3</th>\n",
       "      <td>2/16/2017</td>\n",
       "      <td>2c92d510-5557-4716-8277-296db729efd7</td>\n",
       "      <td>reho1</td>\n",
       "      <td>_original_</td>\n",
       "      <td>16.17</td>\n",
       "    </tr>\n",
       "    <tr>\n",
       "      <th>4</th>\n",
       "      <td>2/16/2017</td>\n",
       "      <td>2dfc9f5c-8898-44fa-8f9b-1693314700ea</td>\n",
       "      <td>reho1</td>\n",
       "      <td>_original_</td>\n",
       "      <td>12.43</td>\n",
       "    </tr>\n",
       "  </tbody>\n",
       "</table>\n",
       "</div>"
      ],
      "text/plain": [
       "        date                            session_id experiment_id  \\\n",
       "0  2/16/2017  0405caaf-5359-4ca7-bdc8-b2f41787322a         reho1   \n",
       "1  2/16/2017  141ea190-c7db-4daf-8564-a2e24d2f68a5         reho1   \n",
       "2  2/16/2017  25d18b51-67a7-4ac0-af39-bb7157ddb408         reho1   \n",
       "3  2/16/2017  2c92d510-5557-4716-8277-296db729efd7         reho1   \n",
       "4  2/16/2017  2dfc9f5c-8898-44fa-8f9b-1693314700ea         reho1   \n",
       "\n",
       "  experiment_variation_id  commission  \n",
       "0              _original_       35.23  \n",
       "1              _original_       17.63  \n",
       "2              _original_        9.16  \n",
       "3              _original_       16.17  \n",
       "4              _original_       12.43  "
      ]
     },
     "execution_count": 5,
     "metadata": {},
     "output_type": "execute_result"
    }
   ],
   "source": [
    "df = pd.read_csv('commission.csv')\n",
    "df.head()"
   ]
  },
  {
   "cell_type": "code",
   "execution_count": 6,
   "metadata": {
    "collapsed": false
   },
   "outputs": [
    {
     "data": {
      "text/plain": [
       "<matplotlib.axes._subplots.AxesSubplot at 0x1cca48109b0>"
      ]
     },
     "execution_count": 6,
     "metadata": {},
     "output_type": "execute_result"
    },
    {
     "data": {
      "image/png": "[encoded data removed]",
      "text/plain": [
       "<matplotlib.figure.Figure at 0x1cca47cff28>"
      ]
     },
     "metadata": {},
     "output_type": "display_data"
    }
   ],
   "source": [
    "df[df['commission'] < 200].plot.hist(alpha=0.5,bins=60,figsize=(12,6))"
   ]
  },
  {
   "cell_type": "code",
   "execution_count": 11,
   "metadata": {
    "collapsed": false
   },
   "outputs": [
    {
     "data": {
      "text/html": [
       "<div>\n",
       "<table border=\"1\" class=\"dataframe\">\n",
       "  <thead>\n",
       "    <tr style=\"text-align: right;\">\n",
       "      <th></th>\n",
       "      <th>date</th>\n",
       "      <th>session_id</th>\n",
       "      <th>experiment_id</th>\n",
       "      <th>experiment_variation_id</th>\n",
       "      <th>commission</th>\n",
       "    </tr>\n",
       "  </thead>\n",
       "  <tbody>\n",
       "    <tr>\n",
       "      <th>0</th>\n",
       "      <td>2017-03-11</td>\n",
       "      <td>509c49e0-f49d-4aa7-b563-67405ab8fde6</td>\n",
       "      <td>hprf1</td>\n",
       "      <td>_original_</td>\n",
       "      <td>163.9029</td>\n",
       "    </tr>\n",
       "    <tr>\n",
       "      <th>1</th>\n",
       "      <td>2017-03-11</td>\n",
       "      <td>71b9cd19-6709-4e69-a431-f2ec710dbd19</td>\n",
       "      <td>hprf1</td>\n",
       "      <td>b</td>\n",
       "      <td>35.8175</td>\n",
       "    </tr>\n",
       "    <tr>\n",
       "      <th>2</th>\n",
       "      <td>2017-03-11</td>\n",
       "      <td>e3386a20-9da3-4a46-991e-018d90e4d373</td>\n",
       "      <td>hprf1</td>\n",
       "      <td>_original_</td>\n",
       "      <td>9.0121</td>\n",
       "    </tr>\n",
       "    <tr>\n",
       "      <th>3</th>\n",
       "      <td>2017-03-11</td>\n",
       "      <td>3b223b18-c353-4609-a3cb-41a55a3f5808</td>\n",
       "      <td>hprf1</td>\n",
       "      <td>b</td>\n",
       "      <td>150.9448</td>\n",
       "    </tr>\n",
       "    <tr>\n",
       "      <th>4</th>\n",
       "      <td>2017-03-11</td>\n",
       "      <td>d1d14255-fdf2-4019-a757-17015f5fa08f</td>\n",
       "      <td>hprf1</td>\n",
       "      <td>b</td>\n",
       "      <td>172.1512</td>\n",
       "    </tr>\n",
       "  </tbody>\n",
       "</table>\n",
       "</div>"
      ],
      "text/plain": [
       "         date                            session_id experiment_id  \\\n",
       "0  2017-03-11  509c49e0-f49d-4aa7-b563-67405ab8fde6         hprf1   \n",
       "1  2017-03-11  71b9cd19-6709-4e69-a431-f2ec710dbd19         hprf1   \n",
       "2  2017-03-11  e3386a20-9da3-4a46-991e-018d90e4d373         hprf1   \n",
       "3  2017-03-11  3b223b18-c353-4609-a3cb-41a55a3f5808         hprf1   \n",
       "4  2017-03-11  d1d14255-fdf2-4019-a757-17015f5fa08f         hprf1   \n",
       "\n",
       "  experiment_variation_id  commission  \n",
       "0              _original_    163.9029  \n",
       "1                       b     35.8175  \n",
       "2              _original_      9.0121  \n",
       "3                       b    150.9448  \n",
       "4                       b    172.1512  "
      ]
     },
     "execution_count": 11,
     "metadata": {},
     "output_type": "execute_result"
    }
   ],
   "source": [
    "df = pd.read_csv('data/hprf1_exp.csv')\n",
    "df.head()"
   ]
  },
  {
   "cell_type": "code",
   "execution_count": 17,
   "metadata": {
    "collapsed": false
   },
   "outputs": [
    {
     "data": {
      "text/plain": [
       "experiment_variation_id\n",
       "_original_    33.492605\n",
       "b             38.334828\n",
       "Name: commission, dtype: float64"
      ]
     },
     "execution_count": 17,
     "metadata": {},
     "output_type": "execute_result"
    }
   ],
   "source": [
    "df.groupby('experiment_variation_id')['commission'].mean()"
   ]
  },
  {
   "cell_type": "code",
   "execution_count": 61,
   "metadata": {
    "collapsed": false
   },
   "outputs": [
    {
     "data": {
      "text/plain": [
       "experiment_variation_id\n",
       "_original_    484\n",
       "b             439\n",
       "Name: commission, dtype: int64"
      ]
     },
     "execution_count": 61,
     "metadata": {},
     "output_type": "execute_result"
    }
   ],
   "source": [
    "df.groupby('experiment_variation_id')['commission'].count()"
   ]
  },
  {
   "cell_type": "code",
   "execution_count": 62,
   "metadata": {
    "collapsed": false
   },
   "outputs": [
    {
     "data": {
      "text/plain": [
       "experiment_variation_id\n",
       "_original_    383.5750\n",
       "b             759.6201\n",
       "Name: commission, dtype: float64"
      ]
     },
     "execution_count": 62,
     "metadata": {},
     "output_type": "execute_result"
    }
   ],
   "source": [
    "df.groupby('experiment_variation_id')['commission'].max()"
   ]
  },
  {
   "cell_type": "code",
   "execution_count": 63,
   "metadata": {
    "collapsed": false
   },
   "outputs": [
    {
     "data": {
      "image/png": "[encoded data removed]",
      "text/plain": [
       "<matplotlib.figure.Figure at 0x1cce5ad34e0>"
      ]
     },
     "metadata": {},
     "output_type": "display_data"
    }
   ],
   "source": [
    "df[df['commission'] < 200].hist(alpha=0.5, bins=20, by=df['experiment_variation_id'], figsize=(12,6));"
   ]
  },
  {
   "cell_type": "code",
   "execution_count": 47,
   "metadata": {
    "collapsed": false
   },
   "outputs": [],
   "source": [
    "test = df['experiment_variation_id'].value_counts().to_frame().reset_index()"
   ]
  },
  {
   "cell_type": "code",
   "execution_count": null,
   "metadata": {
    "collapsed": true
   },
   "outputs": [],
   "source": [
    "bins = numpy.linspace(-10, 10, 100)\n",
    "\n",
    "pyplot.hist(x, bins, alpha=0.5, label='x')\n",
    "pyplot.hist(y, bins, alpha=0.5, label='y')\n",
    "pyplot.legend(loc='upper right')\n",
    "pyplot.show()"
   ]
  },
  {
   "cell_type": "code",
   "execution_count": null,
   "metadata": {
    "collapsed": true
   },
   "outputs": [],
   "source": []
  }
 ],
 "metadata": {
  "kernelspec": {
   "display_name": "Python [Root]",
   "language": "python",
   "name": "Python [Root]"
  },
  "language_info": {
   "codemirror_mode": {
    "name": "ipython",
    "version": 3
   },
   "file_extension": ".py",
   "mimetype": "text/x-python",
   "name": "python",
   "nbconvert_exporter": "python",
   "pygments_lexer": "ipython3",
   "version": "3.5.2"
  }
 },
 "nbformat": 4,
 "nbformat_minor": 0
}
