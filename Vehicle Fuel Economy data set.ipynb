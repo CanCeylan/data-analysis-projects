{
 "cells": [
  {
   "cell_type": "code",
   "execution_count": 74,
   "metadata": {
    "collapsed": true
   },
   "outputs": [],
   "source": [
    "# http://blog.districtdatalabs.com/data-exploration-with-python-2\n",
    "\n",
    "import os\n",
    "import zipfile\n",
    "import requests\n",
    "\n",
    "import pandas as pd\n",
    "import numpy as np"
   ]
  },
  {
   "cell_type": "code",
   "execution_count": 2,
   "metadata": {
    "collapsed": true
   },
   "outputs": [],
   "source": [
    "def download_data(url, name, path='data'):\n",
    "    if not os.path.exists(path):\n",
    "        os.mkdir(path)\n",
    "\n",
    "    response = requests.get(url)\n",
    "    with open(os.path.join(path, name), 'wb') as f:\n",
    "        f.write(response.content)\n",
    "\n",
    "    z = zipfile.ZipFile(os.path.join(path, 'vehicles.zip'))\n",
    "    z.extractall(path)"
   ]
  },
  {
   "cell_type": "code",
   "execution_count": 3,
   "metadata": {
    "collapsed": true
   },
   "outputs": [],
   "source": [
    "VEHICLES = 'http://bit.ly/ddl-cars'\n",
    "\n",
    "download_data(VEHICLES, 'vehicles.zip')"
   ]
  },
  {
   "cell_type": "code",
   "execution_count": 4,
   "metadata": {
    "collapsed": false
   },
   "outputs": [
    {
     "name": "stderr",
     "output_type": "stream",
     "text": [
      "C:\\Users\\Orhan\\Anaconda3\\lib\\site-packages\\IPython\\core\\interactiveshell.py:2723: DtypeWarning: Columns (70,71,72,73,74,76,79) have mixed types. Specify dtype option on import or set low_memory=False.\n",
      "  interactivity=interactivity, compiler=compiler, result=result)\n"
     ]
    },
    {
     "data": {
      "text/html": [
       "<div>\n",
       "<table border=\"1\" class=\"dataframe\">\n",
       "  <thead>\n",
       "    <tr style=\"text-align: right;\">\n",
       "      <th></th>\n",
       "      <th>barrels08</th>\n",
       "      <th>barrelsA08</th>\n",
       "      <th>charge120</th>\n",
       "      <th>charge240</th>\n",
       "      <th>city08</th>\n",
       "      <th>city08U</th>\n",
       "      <th>cityA08</th>\n",
       "      <th>cityA08U</th>\n",
       "      <th>cityCD</th>\n",
       "      <th>cityE</th>\n",
       "      <th>...</th>\n",
       "      <th>mfrCode</th>\n",
       "      <th>c240Dscr</th>\n",
       "      <th>charge240b</th>\n",
       "      <th>c240bDscr</th>\n",
       "      <th>createdOn</th>\n",
       "      <th>modifiedOn</th>\n",
       "      <th>startStop</th>\n",
       "      <th>phevCity</th>\n",
       "      <th>phevHwy</th>\n",
       "      <th>phevComb</th>\n",
       "    </tr>\n",
       "  </thead>\n",
       "  <tbody>\n",
       "    <tr>\n",
       "      <th>0</th>\n",
       "      <td>15.695714</td>\n",
       "      <td>0.0</td>\n",
       "      <td>0.0</td>\n",
       "      <td>0.0</td>\n",
       "      <td>19</td>\n",
       "      <td>0.0</td>\n",
       "      <td>0</td>\n",
       "      <td>0.0</td>\n",
       "      <td>0.0</td>\n",
       "      <td>0.0</td>\n",
       "      <td>...</td>\n",
       "      <td>NaN</td>\n",
       "      <td>NaN</td>\n",
       "      <td>0.0</td>\n",
       "      <td>NaN</td>\n",
       "      <td>Tue Jan 01 00:00:00 EST 2013</td>\n",
       "      <td>Tue Jan 01 00:00:00 EST 2013</td>\n",
       "      <td>NaN</td>\n",
       "      <td>0</td>\n",
       "      <td>0</td>\n",
       "      <td>0</td>\n",
       "    </tr>\n",
       "    <tr>\n",
       "      <th>1</th>\n",
       "      <td>29.964545</td>\n",
       "      <td>0.0</td>\n",
       "      <td>0.0</td>\n",
       "      <td>0.0</td>\n",
       "      <td>9</td>\n",
       "      <td>0.0</td>\n",
       "      <td>0</td>\n",
       "      <td>0.0</td>\n",
       "      <td>0.0</td>\n",
       "      <td>0.0</td>\n",
       "      <td>...</td>\n",
       "      <td>NaN</td>\n",
       "      <td>NaN</td>\n",
       "      <td>0.0</td>\n",
       "      <td>NaN</td>\n",
       "      <td>Tue Jan 01 00:00:00 EST 2013</td>\n",
       "      <td>Tue Jan 01 00:00:00 EST 2013</td>\n",
       "      <td>NaN</td>\n",
       "      <td>0</td>\n",
       "      <td>0</td>\n",
       "      <td>0</td>\n",
       "    </tr>\n",
       "    <tr>\n",
       "      <th>2</th>\n",
       "      <td>12.207778</td>\n",
       "      <td>0.0</td>\n",
       "      <td>0.0</td>\n",
       "      <td>0.0</td>\n",
       "      <td>23</td>\n",
       "      <td>0.0</td>\n",
       "      <td>0</td>\n",
       "      <td>0.0</td>\n",
       "      <td>0.0</td>\n",
       "      <td>0.0</td>\n",
       "      <td>...</td>\n",
       "      <td>NaN</td>\n",
       "      <td>NaN</td>\n",
       "      <td>0.0</td>\n",
       "      <td>NaN</td>\n",
       "      <td>Tue Jan 01 00:00:00 EST 2013</td>\n",
       "      <td>Tue Jan 01 00:00:00 EST 2013</td>\n",
       "      <td>NaN</td>\n",
       "      <td>0</td>\n",
       "      <td>0</td>\n",
       "      <td>0</td>\n",
       "    </tr>\n",
       "    <tr>\n",
       "      <th>3</th>\n",
       "      <td>29.964545</td>\n",
       "      <td>0.0</td>\n",
       "      <td>0.0</td>\n",
       "      <td>0.0</td>\n",
       "      <td>10</td>\n",
       "      <td>0.0</td>\n",
       "      <td>0</td>\n",
       "      <td>0.0</td>\n",
       "      <td>0.0</td>\n",
       "      <td>0.0</td>\n",
       "      <td>...</td>\n",
       "      <td>NaN</td>\n",
       "      <td>NaN</td>\n",
       "      <td>0.0</td>\n",
       "      <td>NaN</td>\n",
       "      <td>Tue Jan 01 00:00:00 EST 2013</td>\n",
       "      <td>Tue Jan 01 00:00:00 EST 2013</td>\n",
       "      <td>NaN</td>\n",
       "      <td>0</td>\n",
       "      <td>0</td>\n",
       "      <td>0</td>\n",
       "    </tr>\n",
       "    <tr>\n",
       "      <th>4</th>\n",
       "      <td>17.347895</td>\n",
       "      <td>0.0</td>\n",
       "      <td>0.0</td>\n",
       "      <td>0.0</td>\n",
       "      <td>17</td>\n",
       "      <td>0.0</td>\n",
       "      <td>0</td>\n",
       "      <td>0.0</td>\n",
       "      <td>0.0</td>\n",
       "      <td>0.0</td>\n",
       "      <td>...</td>\n",
       "      <td>NaN</td>\n",
       "      <td>NaN</td>\n",
       "      <td>0.0</td>\n",
       "      <td>NaN</td>\n",
       "      <td>Tue Jan 01 00:00:00 EST 2013</td>\n",
       "      <td>Tue Jan 01 00:00:00 EST 2013</td>\n",
       "      <td>NaN</td>\n",
       "      <td>0</td>\n",
       "      <td>0</td>\n",
       "      <td>0</td>\n",
       "    </tr>\n",
       "  </tbody>\n",
       "</table>\n",
       "<p>5 rows × 83 columns</p>\n",
       "</div>"
      ],
      "text/plain": [
       "   barrels08  barrelsA08  charge120  charge240  city08  city08U  cityA08  \\\n",
       "0  15.695714         0.0        0.0        0.0      19      0.0        0   \n",
       "1  29.964545         0.0        0.0        0.0       9      0.0        0   \n",
       "2  12.207778         0.0        0.0        0.0      23      0.0        0   \n",
       "3  29.964545         0.0        0.0        0.0      10      0.0        0   \n",
       "4  17.347895         0.0        0.0        0.0      17      0.0        0   \n",
       "\n",
       "   cityA08U  cityCD  cityE    ...     mfrCode  c240Dscr  charge240b  \\\n",
       "0       0.0     0.0    0.0    ...         NaN       NaN         0.0   \n",
       "1       0.0     0.0    0.0    ...         NaN       NaN         0.0   \n",
       "2       0.0     0.0    0.0    ...         NaN       NaN         0.0   \n",
       "3       0.0     0.0    0.0    ...         NaN       NaN         0.0   \n",
       "4       0.0     0.0    0.0    ...         NaN       NaN         0.0   \n",
       "\n",
       "   c240bDscr                     createdOn                    modifiedOn  \\\n",
       "0        NaN  Tue Jan 01 00:00:00 EST 2013  Tue Jan 01 00:00:00 EST 2013   \n",
       "1        NaN  Tue Jan 01 00:00:00 EST 2013  Tue Jan 01 00:00:00 EST 2013   \n",
       "2        NaN  Tue Jan 01 00:00:00 EST 2013  Tue Jan 01 00:00:00 EST 2013   \n",
       "3        NaN  Tue Jan 01 00:00:00 EST 2013  Tue Jan 01 00:00:00 EST 2013   \n",
       "4        NaN  Tue Jan 01 00:00:00 EST 2013  Tue Jan 01 00:00:00 EST 2013   \n",
       "\n",
       "   startStop  phevCity  phevHwy  phevComb  \n",
       "0        NaN         0        0         0  \n",
       "1        NaN         0        0         0  \n",
       "2        NaN         0        0         0  \n",
       "3        NaN         0        0         0  \n",
       "4        NaN         0        0         0  \n",
       "\n",
       "[5 rows x 83 columns]"
      ]
     },
     "execution_count": 4,
     "metadata": {},
     "output_type": "execute_result"
    }
   ],
   "source": [
    "path = 'data'\n",
    "vehicles = pd.read_csv(os.path.join(path, 'vehicles.csv'))\n",
    "vehicles.head()"
   ]
  },
  {
   "cell_type": "code",
   "execution_count": 5,
   "metadata": {
    "collapsed": true
   },
   "outputs": [],
   "source": [
    "select_columns = ['make', 'model', 'year', 'displ', 'cylinders', 'trany', 'drive', 'VClass',\n",
    "                  'fuelType','barrels08', 'city08', 'highway08', 'comb08', 'co2TailpipeGpm', 'fuelCost08']\n",
    "\n",
    "vehicles = vehicles[select_columns][vehicles.year <= 2016].drop_duplicates().dropna()\n",
    "\n",
    "vehicles = vehicles.sort_values(['make', 'model', 'year'])\n",
    "\n",
    "vehicles.columns = ['Make','Model','Year','Engine Displacement','Cylinders',\n",
    "                    'Transmission','Drivetrain','Vehicle Class','Fuel Type',\n",
    "                    'Fuel Barrels/Year','City MPG','Highway MPG','Combined MPG',\n",
    "                    'CO2 Emission Grams/Mile','Fuel Cost/Year']"
   ]
  },
  {
   "cell_type": "code",
   "execution_count": 6,
   "metadata": {
    "collapsed": false
   },
   "outputs": [
    {
     "name": "stdout",
     "output_type": "stream",
     "text": [
      "(35095, 15)\n"
     ]
    },
    {
     "data": {
      "text/html": [
       "<div>\n",
       "<table border=\"1\" class=\"dataframe\">\n",
       "  <thead>\n",
       "    <tr style=\"text-align: right;\">\n",
       "      <th></th>\n",
       "      <th>Make</th>\n",
       "      <th>Model</th>\n",
       "      <th>Year</th>\n",
       "      <th>Engine Displacement</th>\n",
       "      <th>Cylinders</th>\n",
       "      <th>Transmission</th>\n",
       "      <th>Drivetrain</th>\n",
       "      <th>Vehicle Class</th>\n",
       "      <th>Fuel Type</th>\n",
       "      <th>Fuel Barrels/Year</th>\n",
       "      <th>City MPG</th>\n",
       "      <th>Highway MPG</th>\n",
       "      <th>Combined MPG</th>\n",
       "      <th>CO2 Emission Grams/Mile</th>\n",
       "      <th>Fuel Cost/Year</th>\n",
       "    </tr>\n",
       "  </thead>\n",
       "  <tbody>\n",
       "    <tr>\n",
       "      <th>19316</th>\n",
       "      <td>AM General</td>\n",
       "      <td>DJ Po Vehicle 2WD</td>\n",
       "      <td>1984</td>\n",
       "      <td>2.5</td>\n",
       "      <td>4.0</td>\n",
       "      <td>Automatic 3-spd</td>\n",
       "      <td>2-Wheel Drive</td>\n",
       "      <td>Special Purpose Vehicle 2WD</td>\n",
       "      <td>Regular</td>\n",
       "      <td>19.388824</td>\n",
       "      <td>18</td>\n",
       "      <td>17</td>\n",
       "      <td>17</td>\n",
       "      <td>522.764706</td>\n",
       "      <td>1950</td>\n",
       "    </tr>\n",
       "    <tr>\n",
       "      <th>19314</th>\n",
       "      <td>AM General</td>\n",
       "      <td>FJ8c Post Office</td>\n",
       "      <td>1984</td>\n",
       "      <td>4.2</td>\n",
       "      <td>6.0</td>\n",
       "      <td>Automatic 3-spd</td>\n",
       "      <td>2-Wheel Drive</td>\n",
       "      <td>Special Purpose Vehicle 2WD</td>\n",
       "      <td>Regular</td>\n",
       "      <td>25.354615</td>\n",
       "      <td>13</td>\n",
       "      <td>13</td>\n",
       "      <td>13</td>\n",
       "      <td>683.615385</td>\n",
       "      <td>2550</td>\n",
       "    </tr>\n",
       "    <tr>\n",
       "      <th>358</th>\n",
       "      <td>AM General</td>\n",
       "      <td>Post Office DJ5 2WD</td>\n",
       "      <td>1985</td>\n",
       "      <td>2.5</td>\n",
       "      <td>4.0</td>\n",
       "      <td>Automatic 3-spd</td>\n",
       "      <td>Rear-Wheel Drive</td>\n",
       "      <td>Special Purpose Vehicle 2WD</td>\n",
       "      <td>Regular</td>\n",
       "      <td>20.600625</td>\n",
       "      <td>16</td>\n",
       "      <td>17</td>\n",
       "      <td>16</td>\n",
       "      <td>555.437500</td>\n",
       "      <td>2100</td>\n",
       "    </tr>\n",
       "    <tr>\n",
       "      <th>369</th>\n",
       "      <td>AM General</td>\n",
       "      <td>Post Office DJ8 2WD</td>\n",
       "      <td>1985</td>\n",
       "      <td>4.2</td>\n",
       "      <td>6.0</td>\n",
       "      <td>Automatic 3-spd</td>\n",
       "      <td>Rear-Wheel Drive</td>\n",
       "      <td>Special Purpose Vehicle 2WD</td>\n",
       "      <td>Regular</td>\n",
       "      <td>25.354615</td>\n",
       "      <td>13</td>\n",
       "      <td>13</td>\n",
       "      <td>13</td>\n",
       "      <td>683.615385</td>\n",
       "      <td>2550</td>\n",
       "    </tr>\n",
       "    <tr>\n",
       "      <th>25797</th>\n",
       "      <td>ASC Incorporated</td>\n",
       "      <td>GNX</td>\n",
       "      <td>1987</td>\n",
       "      <td>3.8</td>\n",
       "      <td>6.0</td>\n",
       "      <td>Automatic 4-spd</td>\n",
       "      <td>Rear-Wheel Drive</td>\n",
       "      <td>Midsize Cars</td>\n",
       "      <td>Premium</td>\n",
       "      <td>20.600625</td>\n",
       "      <td>14</td>\n",
       "      <td>21</td>\n",
       "      <td>16</td>\n",
       "      <td>555.437500</td>\n",
       "      <td>2550</td>\n",
       "    </tr>\n",
       "  </tbody>\n",
       "</table>\n",
       "</div>"
      ],
      "text/plain": [
       "                   Make                Model  Year  Engine Displacement  \\\n",
       "19316        AM General    DJ Po Vehicle 2WD  1984                  2.5   \n",
       "19314        AM General     FJ8c Post Office  1984                  4.2   \n",
       "358          AM General  Post Office DJ5 2WD  1985                  2.5   \n",
       "369          AM General  Post Office DJ8 2WD  1985                  4.2   \n",
       "25797  ASC Incorporated                  GNX  1987                  3.8   \n",
       "\n",
       "       Cylinders     Transmission        Drivetrain  \\\n",
       "19316        4.0  Automatic 3-spd     2-Wheel Drive   \n",
       "19314        6.0  Automatic 3-spd     2-Wheel Drive   \n",
       "358          4.0  Automatic 3-spd  Rear-Wheel Drive   \n",
       "369          6.0  Automatic 3-spd  Rear-Wheel Drive   \n",
       "25797        6.0  Automatic 4-spd  Rear-Wheel Drive   \n",
       "\n",
       "                     Vehicle Class Fuel Type  Fuel Barrels/Year  City MPG  \\\n",
       "19316  Special Purpose Vehicle 2WD   Regular          19.388824        18   \n",
       "19314  Special Purpose Vehicle 2WD   Regular          25.354615        13   \n",
       "358    Special Purpose Vehicle 2WD   Regular          20.600625        16   \n",
       "369    Special Purpose Vehicle 2WD   Regular          25.354615        13   \n",
       "25797                 Midsize Cars   Premium          20.600625        14   \n",
       "\n",
       "       Highway MPG  Combined MPG  CO2 Emission Grams/Mile  Fuel Cost/Year  \n",
       "19316           17            17               522.764706            1950  \n",
       "19314           13            13               683.615385            2550  \n",
       "358             17            16               555.437500            2100  \n",
       "369             13            13               683.615385            2550  \n",
       "25797           21            16               555.437500            2550  "
      ]
     },
     "execution_count": 6,
     "metadata": {},
     "output_type": "execute_result"
    }
   ],
   "source": [
    "print(vehicles.shape)\n",
    "vehicles.head()"
   ]
  },
  {
   "cell_type": "markdown",
   "metadata": {},
   "source": [
    "## Aggregating to Higher-Level Categories"
   ]
  },
  {
   "cell_type": "code",
   "execution_count": 7,
   "metadata": {
    "collapsed": false
   },
   "outputs": [
    {
     "name": "stdout",
     "output_type": "stream",
     "text": [
      "Make | 126 | object\n",
      "Model | 3490 | object\n",
      "Year | 33 | int64\n",
      "Engine Displacement | 65 | float64\n",
      "Cylinders | 9 | float64\n",
      "Transmission | 44 | object\n",
      "Drivetrain | 7 | object\n",
      "Vehicle Class | 34 | object\n",
      "Fuel Type | 13 | object\n",
      "Fuel Barrels/Year | 116 | float64\n",
      "City MPG | 48 | int64\n",
      "Highway MPG | 49 | int64\n",
      "Combined MPG | 46 | int64\n",
      "CO2 Emission Grams/Mile | 550 | float64\n",
      "Fuel Cost/Year | 55 | int64\n"
     ]
    }
   ],
   "source": [
    "def unique_col_values(df):\n",
    "    for column in df:\n",
    "        print(\"{} | {} | {}\".format(\n",
    "            column, len(df[column].unique()), df[column].dtype))\n",
    "        \n",
    "unique_col_values(vehicles)"
   ]
  },
  {
   "cell_type": "code",
   "execution_count": 9,
   "metadata": {
    "collapsed": false
   },
   "outputs": [
    {
     "data": {
      "text/plain": [
       "Automatic 4-spd                     10582\n",
       "Manual 5-spd                         7764\n",
       "Automatic 3-spd                      2597\n",
       "Automatic (S6)                       2455\n",
       "Manual 6-spd                         2336\n",
       "Automatic 5-spd                      2171\n",
       "Automatic 6-spd                      1351\n",
       "Manual 4-spd                         1306\n",
       "Automatic (S5)                        822\n",
       "Automatic (S8)                        774\n",
       "Automatic (variable gear ratios)      643\n",
       "Automatic 7-spd                       630\n",
       "Automatic (S7)                        238\n",
       "Automatic (S4)                        229\n",
       "Auto(AM-S7)                           211\n",
       "Automatic 8-spd                       207\n",
       "Auto(AV-S6)                           135\n",
       "Auto(AM7)                             124\n",
       "Auto(AM6)                             103\n",
       "Auto(AM-S6)                            82\n",
       "Manual 3-spd                           74\n",
       "Manual 7-spd                           56\n",
       "Auto(AV-S7)                            54\n",
       "Automatic 9-spd                        54\n",
       "Auto(AV-S8)                            24\n",
       "Automatic (S9)                         17\n",
       "Auto(AM5)                              12\n",
       "Automatic (AV-S6)                       9\n",
       "Automatic (AV)                          4\n",
       "Auto(AM8)                               4\n",
       "Auto(AM-S8)                             4\n",
       "Automatic (A6)                          4\n",
       "Automatic (A1)                          3\n",
       "Automatic (AM5)                         2\n",
       "Auto(L4)                                2\n",
       "Auto(L3)                                2\n",
       "Auto (AV)                               2\n",
       "Manual(M7)                              2\n",
       "Automatic 6spd                          1\n",
       "Automatic (AM6)                         1\n",
       "Auto(A1)                                1\n",
       "Manual 5 spd                            1\n",
       "Auto (AV-S8)                            1\n",
       "Auto (AV-S6)                            1\n",
       "Name: Transmission, dtype: int64"
      ]
     },
     "execution_count": 9,
     "metadata": {},
     "output_type": "execute_result"
    }
   ],
   "source": [
    "vehicles['Transmission'].value_counts()"
   ]
  },
  {
   "cell_type": "code",
   "execution_count": 10,
   "metadata": {
    "collapsed": true
   },
   "outputs": [],
   "source": [
    "AUTOMATIC = \"Automatic\"\n",
    "MANUAL = \"Manual\"\n",
    "\n",
    "vehicles.loc[vehicles['Transmission'].str.startswith('Auto'),'Transmission Type'] = AUTOMATIC\n",
    "vehicles.loc[vehicles['Transmission'].str.startswith('Man'),'Transmission Type'] = MANUAL"
   ]
  },
  {
   "cell_type": "code",
   "execution_count": 11,
   "metadata": {
    "collapsed": false
   },
   "outputs": [
    {
     "data": {
      "text/plain": [
       "Automatic    23556\n",
       "Manual       11539\n",
       "Name: Transmission Type, dtype: int64"
      ]
     },
     "execution_count": 11,
     "metadata": {},
     "output_type": "execute_result"
    }
   ],
   "source": [
    "vehicles['Transmission Type'].value_counts()"
   ]
  },
  {
   "cell_type": "code",
   "execution_count": 12,
   "metadata": {
    "collapsed": false
   },
   "outputs": [
    {
     "data": {
      "text/plain": [
       "Compact Cars                          5048\n",
       "Subcompact Cars                       4273\n",
       "Midsize Cars                          3951\n",
       "Standard Pickup Trucks                2311\n",
       "Sport Utility Vehicle - 4WD           2081\n",
       "Two Seaters                           1724\n",
       "Large Cars                            1678\n",
       "Sport Utility Vehicle - 2WD           1615\n",
       "Special Purpose Vehicles              1404\n",
       "Small Station Wagons                  1344\n",
       "Minicompact Cars                      1165\n",
       "Standard Pickup Trucks 2WD            1125\n",
       "Vans                                  1121\n",
       "Standard Pickup Trucks 4WD             938\n",
       "Midsize-Large Station Wagons           633\n",
       "Special Purpose Vehicle 2WD            570\n",
       "Small Pickup Trucks                    524\n",
       "Vans, Cargo Type                       432\n",
       "Midsize Station Wagons                 413\n",
       "Small Sport Utility Vehicle 4WD        412\n",
       "Small Pickup Trucks 2WD                398\n",
       "Standard Sport Utility Vehicle 4WD     343\n",
       "Minivan - 2WD                          324\n",
       "Small Sport Utility Vehicle 2WD        319\n",
       "Vans, Passenger Type                   295\n",
       "Special Purpose Vehicle 4WD            254\n",
       "Small Pickup Trucks 4WD                195\n",
       "Standard Sport Utility Vehicle 2WD     148\n",
       "Minivan - 4WD                           46\n",
       "Standard Pickup Trucks/2wd               4\n",
       "Special Purpose Vehicles/4wd             2\n",
       "Special Purpose Vehicles/2wd             2\n",
       "Vans Passenger                           2\n",
       "Special Purpose Vehicle                  1\n",
       "Name: Vehicle Class, dtype: int64"
      ]
     },
     "execution_count": 12,
     "metadata": {},
     "output_type": "execute_result"
    }
   ],
   "source": [
    "vehicles['Vehicle Class'].value_counts()"
   ]
  },
  {
   "cell_type": "code",
   "execution_count": 13,
   "metadata": {
    "collapsed": false
   },
   "outputs": [
    {
     "data": {
      "text/plain": [
       "{'Large Cars': ['Large Cars'],\n",
       " 'Midsize Cars': ['Midsize Cars'],\n",
       " 'Small Cars': ['Compact Cars',\n",
       "  'Subcompact Cars',\n",
       "  'Two Seaters',\n",
       "  'Minicompact Cars']}"
      ]
     },
     "execution_count": 13,
     "metadata": {},
     "output_type": "execute_result"
    }
   ],
   "source": [
    "d = {}\n",
    "\n",
    "d['Small Cars'] = ['Compact Cars','Subcompact Cars','Two Seaters','Minicompact Cars']\n",
    "d['Midsize Cars'] = ['Midsize Cars']\n",
    "d['Large Cars'] = ['Large Cars']\n",
    "\n",
    "d"
   ]
  },
  {
   "cell_type": "code",
   "execution_count": 14,
   "metadata": {
    "collapsed": false
   },
   "outputs": [],
   "source": [
    "for k, v in d.items():\n",
    "    vehicles.loc[vehicles['Vehicle Class'].isin(v), 'Vehicle Category'] = k"
   ]
  },
  {
   "cell_type": "code",
   "execution_count": 15,
   "metadata": {
    "collapsed": false
   },
   "outputs": [
    {
     "data": {
      "text/plain": [
       "Small Cars      12210\n",
       "Midsize Cars     3951\n",
       "Large Cars       1678\n",
       "Name: Vehicle Category, dtype: int64"
      ]
     },
     "execution_count": 15,
     "metadata": {},
     "output_type": "execute_result"
    }
   ],
   "source": [
    "vehicles['Vehicle Category'].value_counts()"
   ]
  },
  {
   "cell_type": "code",
   "execution_count": 18,
   "metadata": {
    "collapsed": false
   },
   "outputs": [
    {
     "data": {
      "text/html": [
       "<div>\n",
       "<table border=\"1\" class=\"dataframe\">\n",
       "  <thead>\n",
       "    <tr style=\"text-align: right;\">\n",
       "      <th></th>\n",
       "      <th>Make</th>\n",
       "      <th>Model</th>\n",
       "    </tr>\n",
       "  </thead>\n",
       "  <tbody>\n",
       "    <tr>\n",
       "      <th>16926</th>\n",
       "      <td>Pontiac</td>\n",
       "      <td>Solstice</td>\n",
       "    </tr>\n",
       "    <tr>\n",
       "      <th>3279</th>\n",
       "      <td>Ford</td>\n",
       "      <td>Escort</td>\n",
       "    </tr>\n",
       "    <tr>\n",
       "      <th>31855</th>\n",
       "      <td>Plymouth</td>\n",
       "      <td>Gran Fury</td>\n",
       "    </tr>\n",
       "    <tr>\n",
       "      <th>7936</th>\n",
       "      <td>Infiniti</td>\n",
       "      <td>QX4 2WD</td>\n",
       "    </tr>\n",
       "    <tr>\n",
       "      <th>9805</th>\n",
       "      <td>Subaru</td>\n",
       "      <td>Legacy/Outback Wagon AWD</td>\n",
       "    </tr>\n",
       "    <tr>\n",
       "      <th>3214</th>\n",
       "      <td>Mercedes-Benz</td>\n",
       "      <td>S320</td>\n",
       "    </tr>\n",
       "    <tr>\n",
       "      <th>5584</th>\n",
       "      <td>Plymouth</td>\n",
       "      <td>Neon</td>\n",
       "    </tr>\n",
       "    <tr>\n",
       "      <th>7633</th>\n",
       "      <td>Ford</td>\n",
       "      <td>Ranger Pickup Cab Chassis</td>\n",
       "    </tr>\n",
       "    <tr>\n",
       "      <th>11475</th>\n",
       "      <td>Lexus</td>\n",
       "      <td>GX 470</td>\n",
       "    </tr>\n",
       "    <tr>\n",
       "      <th>14939</th>\n",
       "      <td>Lexus</td>\n",
       "      <td>LS 460</td>\n",
       "    </tr>\n",
       "    <tr>\n",
       "      <th>23627</th>\n",
       "      <td>Dodge</td>\n",
       "      <td>Journey AWD</td>\n",
       "    </tr>\n",
       "    <tr>\n",
       "      <th>25269</th>\n",
       "      <td>Chrysler</td>\n",
       "      <td>300 AWD</td>\n",
       "    </tr>\n",
       "    <tr>\n",
       "      <th>36070</th>\n",
       "      <td>Dodge</td>\n",
       "      <td>B350 Wagon 2WD</td>\n",
       "    </tr>\n",
       "    <tr>\n",
       "      <th>11795</th>\n",
       "      <td>Hyundai</td>\n",
       "      <td>Tiburon</td>\n",
       "    </tr>\n",
       "    <tr>\n",
       "      <th>33118</th>\n",
       "      <td>Mazda</td>\n",
       "      <td>626/MX-6</td>\n",
       "    </tr>\n",
       "    <tr>\n",
       "      <th>11676</th>\n",
       "      <td>Porsche</td>\n",
       "      <td>Turbo 2 911 GT2</td>\n",
       "    </tr>\n",
       "    <tr>\n",
       "      <th>28247</th>\n",
       "      <td>Honda</td>\n",
       "      <td>Crosstour 4WD</td>\n",
       "    </tr>\n",
       "    <tr>\n",
       "      <th>1958</th>\n",
       "      <td>Saab</td>\n",
       "      <td>900 Convertible</td>\n",
       "    </tr>\n",
       "    <tr>\n",
       "      <th>10388</th>\n",
       "      <td>Ferrari</td>\n",
       "      <td>360 Modena/Spider/Challenge</td>\n",
       "    </tr>\n",
       "    <tr>\n",
       "      <th>35556</th>\n",
       "      <td>Dodge</td>\n",
       "      <td>Spirit</td>\n",
       "    </tr>\n",
       "  </tbody>\n",
       "</table>\n",
       "</div>"
      ],
      "text/plain": [
       "                Make                        Model\n",
       "16926        Pontiac                     Solstice\n",
       "3279            Ford                       Escort\n",
       "31855       Plymouth                    Gran Fury\n",
       "7936        Infiniti                      QX4 2WD\n",
       "9805          Subaru     Legacy/Outback Wagon AWD\n",
       "3214   Mercedes-Benz                         S320\n",
       "5584        Plymouth                         Neon\n",
       "7633            Ford    Ranger Pickup Cab Chassis\n",
       "11475          Lexus                       GX 470\n",
       "14939          Lexus                       LS 460\n",
       "23627          Dodge                  Journey AWD\n",
       "25269       Chrysler                      300 AWD\n",
       "36070          Dodge               B350 Wagon 2WD\n",
       "11795        Hyundai                      Tiburon\n",
       "33118          Mazda                     626/MX-6\n",
       "11676        Porsche              Turbo 2 911 GT2\n",
       "28247          Honda                Crosstour 4WD\n",
       "1958            Saab              900 Convertible\n",
       "10388        Ferrari  360 Modena/Spider/Challenge\n",
       "35556          Dodge                       Spirit"
      ]
     },
     "execution_count": 18,
     "metadata": {},
     "output_type": "execute_result"
    }
   ],
   "source": [
    "vehicles[['Make', 'Model']].sample(20)"
   ]
  },
  {
   "cell_type": "code",
   "execution_count": 35,
   "metadata": {
    "collapsed": false
   },
   "outputs": [],
   "source": [
    "vehicles['Model Type'] = vehicles['Make'] + ' ' + vehicles['Model'].str.split().str.get(0)"
   ]
  },
  {
   "cell_type": "code",
   "execution_count": 38,
   "metadata": {
    "collapsed": false
   },
   "outputs": [
    {
     "data": {
      "text/plain": [
       "Regular                        23208\n",
       "Premium                         9509\n",
       "Gasoline or E85                 1157\n",
       "Diesel                           906\n",
       "Premium or E85                   116\n",
       "Midgrade                          64\n",
       "CNG                               60\n",
       "Gasoline or natural gas           20\n",
       "Premium Gas or Electricity        16\n",
       "Premium and Electricity           16\n",
       "Regular Gas and Electricity       14\n",
       "Gasoline or propane                8\n",
       "Regular Gas or Electricity         1\n",
       "Name: Fuel Type, dtype: int64"
      ]
     },
     "execution_count": 38,
     "metadata": {},
     "output_type": "execute_result"
    }
   ],
   "source": [
    "vehicles['Fuel Type'].value_counts()"
   ]
  },
  {
   "cell_type": "code",
   "execution_count": 40,
   "metadata": {
    "collapsed": true
   },
   "outputs": [],
   "source": [
    "vehicles['Gas'] = 0\n",
    "vehicles['Ethanol'] = 0\n",
    "vehicles['Electric'] = 0\n",
    "vehicles['Propane'] = 0\n",
    "vehicles['Natural Gas'] = 0\n",
    "\n",
    "vehicles.loc[vehicles['Fuel Type'].str.contains('Regular|Gasoline|Midgrade|Premium|Diesel'), 'Gas'] = 1\n",
    "vehicles.loc[vehicles['Fuel Type'].str.contains('E85'), 'Ethanol'] = 1\n",
    "vehicles.loc[vehicles['Fuel Type'].str.contains('Electricity'), 'Electric'] = 1\n",
    "vehicles.loc[vehicles['Fuel Type'].str.contains('propane'), 'Propane'] = 1\n",
    "vehicles.loc[vehicles['Fuel Type'].str.contains('natural|CNG'), 'Natural Gas'] = 1"
   ]
  },
  {
   "cell_type": "code",
   "execution_count": 46,
   "metadata": {
    "collapsed": false
   },
   "outputs": [
    {
     "data": {
      "text/plain": [
       "1    0.99829\n",
       "0    0.00171\n",
       "Name: Gas, dtype: float64"
      ]
     },
     "execution_count": 46,
     "metadata": {},
     "output_type": "execute_result"
    }
   ],
   "source": [
    "vehicles['Gas'].value_counts(normalize=True,dropna=False)"
   ]
  },
  {
   "cell_type": "code",
   "execution_count": 47,
   "metadata": {
    "collapsed": true
   },
   "outputs": [],
   "source": [
    "vehicles.loc[vehicles['Fuel Type'].str.contains('Regular|Gasoline'),'Gas Type'] = 'Regular'\n",
    "vehicles.loc[vehicles['Fuel Type'] == 'Midgrade','Gas Type'] = 'Midgrade'\n",
    "vehicles.loc[vehicles['Fuel Type'].str.contains('Premium'),'Gas Type'] = 'Premium'\n",
    "vehicles.loc[vehicles['Fuel Type'] == 'Diesel','Gas Type'] = 'Diesel'\n",
    "vehicles.loc[vehicles['Fuel Type'].str.contains('natural|CNG'),'Gas Type'] = 'Natural'"
   ]
  },
  {
   "cell_type": "markdown",
   "metadata": {},
   "source": [
    "## Creating Categories from Continuous Variables"
   ]
  },
  {
   "cell_type": "code",
   "execution_count": 53,
   "metadata": {
    "collapsed": false
   },
   "outputs": [
    {
     "data": {
      "text/plain": [
       "Very Low Efficiency     0.258299\n",
       "High Efficiency         0.199601\n",
       "Very High Efficiency    0.196666\n",
       "Moderate Efficiency     0.178202\n",
       "Low Efficiency          0.167232\n",
       "Name: Fuel Efficiency, dtype: float64"
      ]
     },
     "execution_count": 53,
     "metadata": {},
     "output_type": "execute_result"
    }
   ],
   "source": [
    "efficiency_categories = ['Very Low Efficiency', 'Low Efficiency','Moderate Efficiency',\n",
    "                         'High Efficiency','Very High Efficiency']\n",
    "\n",
    "vehicles['Fuel Efficiency'] = pd.qcut(vehicles['Combined MPG'], 5, efficiency_categories)\n",
    "vehicles['Fuel Efficiency'].value_counts(normalize=True)"
   ]
  },
  {
   "cell_type": "code",
   "execution_count": 55,
   "metadata": {
    "collapsed": false
   },
   "outputs": [
    {
     "data": {
      "text/plain": [
       "Fuel Efficiency\n",
       "Very Low Efficiency     14.206067\n",
       "Low Efficiency          17.596354\n",
       "Moderate Efficiency     19.485289\n",
       "High Efficiency         21.803141\n",
       "Very High Efficiency    27.543755\n",
       "Name: Combined MPG, dtype: float64"
      ]
     },
     "execution_count": 55,
     "metadata": {},
     "output_type": "execute_result"
    }
   ],
   "source": [
    "vehicles.groupby('Fuel Efficiency')['Combined MPG'].mean()"
   ]
  },
  {
   "cell_type": "code",
   "execution_count": 56,
   "metadata": {
    "collapsed": true
   },
   "outputs": [],
   "source": [
    "engine_categories = ['Very Small Engine', 'Small Engine','Moderate Engine','Large Engine', 'Very Large Engine']\n",
    "\n",
    "vehicles['Engine Size'] = pd.qcut(vehicles['Engine Displacement'], 5, engine_categories)"
   ]
  },
  {
   "cell_type": "code",
   "execution_count": 57,
   "metadata": {
    "collapsed": true
   },
   "outputs": [],
   "source": [
    "emission_categories = ['Very Low Emissions', 'Low Emissions','Moderate Emissions',\n",
    "                       'High Emissions','Very High Emissions']\n",
    "\n",
    "vehicles['Emissions'] = pd.qcut(vehicles['CO2 Emission Grams/Mile'],5, emission_categories)"
   ]
  },
  {
   "cell_type": "code",
   "execution_count": 58,
   "metadata": {
    "collapsed": true
   },
   "outputs": [],
   "source": [
    "fuelcost_categories = ['Very Low Fuel Cost', 'Low Fuel Cost','Moderate Fuel Cost',\n",
    "                       'High Fuel Cost','Very High Fuel Cost']\n",
    "\n",
    "vehicles['Fuel Cost'] = pd.qcut(vehicles['Fuel Cost/Year'], 5, fuelcost_categories)"
   ]
  },
  {
   "cell_type": "markdown",
   "metadata": {},
   "source": [
    "## Clustering to Create Additional Categories"
   ]
  },
  {
   "cell_type": "markdown",
   "metadata": {},
   "source": [
    "The first thing we are going to do is isolate the columns we want to use for clustering. These are going to be columns with numeric values, as the clustering algorithm will need to compute distances in order to group similar vehicles together."
   ]
  },
  {
   "cell_type": "code",
   "execution_count": 59,
   "metadata": {
    "collapsed": true
   },
   "outputs": [],
   "source": [
    "cluster_columns = ['Engine Displacement','Cylinders','Fuel Barrels/Year',\n",
    "                   'City MPG','Highway MPG','Combined MPG',\n",
    "                   'CO2 Emission Grams/Mile', 'Fuel Cost/Year']"
   ]
  },
  {
   "cell_type": "markdown",
   "metadata": {},
   "source": [
    "Ways to normalize and scale variables: http://scikit-learn.org/stable/modules/preprocessing.html\n",
    "\n",
    "We use `MaxAbsScaler` which will divide each value by the max absolute value for that feature. This will preserve the distributions in the data and convert the values in each field to a number between 0 and 1 (technically -1 and 1, but we don't have any negatives)."
   ]
  },
  {
   "cell_type": "code",
   "execution_count": 61,
   "metadata": {
    "collapsed": true
   },
   "outputs": [],
   "source": [
    "from sklearn import preprocessing\n",
    "scaler = preprocessing.MaxAbsScaler()\n",
    "\n",
    "vehicle_clusters = scaler.fit_transform(vehicles[cluster_columns])\n",
    "vehicle_clusters = pd.DataFrame(vehicle_clusters, columns=cluster_columns)"
   ]
  },
  {
   "cell_type": "markdown",
   "metadata": {},
   "source": [
    "### kmeans_cluster"
   ]
  },
  {
   "cell_type": "code",
   "execution_count": 77,
   "metadata": {
    "collapsed": false
   },
   "outputs": [
    {
     "data": {
      "text/plain": [
       "array([3, 6, 6, ..., 5, 5, 5])"
      ]
     },
     "execution_count": 77,
     "metadata": {},
     "output_type": "execute_result"
    }
   ],
   "source": [
    "model = KMeans(n_clusters=8, random_state=1)\n",
    "clusters = model.fit_predict(vehicle_clusters)\n",
    "clusters"
   ]
  },
  {
   "cell_type": "code",
   "execution_count": 85,
   "metadata": {
    "collapsed": false
   },
   "outputs": [
    {
     "name": "stdout",
     "output_type": "stream",
     "text": [
      "(35095, 8)\n",
      "35095\n",
      "[0 1 2 3 4 5 6 7]\n"
     ]
    }
   ],
   "source": [
    "print(vehicle_clusters.shape)\n",
    "print(clusters.size)\n",
    "print(np.unique(clusters)) # We have 8 clusters assigned now"
   ]
  },
  {
   "cell_type": "code",
   "execution_count": 87,
   "metadata": {
    "collapsed": false
   },
   "outputs": [
    {
     "data": {
      "text/html": [
       "<div>\n",
       "<table border=\"1\" class=\"dataframe\">\n",
       "  <thead>\n",
       "    <tr style=\"text-align: right;\">\n",
       "      <th></th>\n",
       "      <th>Engine Displacement</th>\n",
       "      <th>Cylinders</th>\n",
       "      <th>Fuel Barrels/Year</th>\n",
       "      <th>City MPG</th>\n",
       "      <th>Highway MPG</th>\n",
       "      <th>Combined MPG</th>\n",
       "      <th>CO2 Emission Grams/Mile</th>\n",
       "      <th>Fuel Cost/Year</th>\n",
       "      <th>Cluster</th>\n",
       "    </tr>\n",
       "  </thead>\n",
       "  <tbody>\n",
       "    <tr>\n",
       "      <th>0</th>\n",
       "      <td>0.297619</td>\n",
       "      <td>0.250</td>\n",
       "      <td>0.411765</td>\n",
       "      <td>0.310345</td>\n",
       "      <td>0.278689</td>\n",
       "      <td>0.303571</td>\n",
       "      <td>0.411765</td>\n",
       "      <td>0.336207</td>\n",
       "      <td>3</td>\n",
       "    </tr>\n",
       "    <tr>\n",
       "      <th>1</th>\n",
       "      <td>0.500000</td>\n",
       "      <td>0.375</td>\n",
       "      <td>0.538462</td>\n",
       "      <td>0.224138</td>\n",
       "      <td>0.213115</td>\n",
       "      <td>0.232143</td>\n",
       "      <td>0.538462</td>\n",
       "      <td>0.439655</td>\n",
       "      <td>6</td>\n",
       "    </tr>\n",
       "    <tr>\n",
       "      <th>2</th>\n",
       "      <td>0.297619</td>\n",
       "      <td>0.250</td>\n",
       "      <td>0.437500</td>\n",
       "      <td>0.275862</td>\n",
       "      <td>0.278689</td>\n",
       "      <td>0.285714</td>\n",
       "      <td>0.437500</td>\n",
       "      <td>0.362069</td>\n",
       "      <td>6</td>\n",
       "    </tr>\n",
       "    <tr>\n",
       "      <th>3</th>\n",
       "      <td>0.500000</td>\n",
       "      <td>0.375</td>\n",
       "      <td>0.538462</td>\n",
       "      <td>0.224138</td>\n",
       "      <td>0.213115</td>\n",
       "      <td>0.232143</td>\n",
       "      <td>0.538462</td>\n",
       "      <td>0.439655</td>\n",
       "      <td>6</td>\n",
       "    </tr>\n",
       "    <tr>\n",
       "      <th>4</th>\n",
       "      <td>0.452381</td>\n",
       "      <td>0.375</td>\n",
       "      <td>0.437500</td>\n",
       "      <td>0.241379</td>\n",
       "      <td>0.344262</td>\n",
       "      <td>0.285714</td>\n",
       "      <td>0.437500</td>\n",
       "      <td>0.439655</td>\n",
       "      <td>6</td>\n",
       "    </tr>\n",
       "  </tbody>\n",
       "</table>\n",
       "</div>"
      ],
      "text/plain": [
       "   Engine Displacement  Cylinders  Fuel Barrels/Year  City MPG  Highway MPG  \\\n",
       "0             0.297619      0.250           0.411765  0.310345     0.278689   \n",
       "1             0.500000      0.375           0.538462  0.224138     0.213115   \n",
       "2             0.297619      0.250           0.437500  0.275862     0.278689   \n",
       "3             0.500000      0.375           0.538462  0.224138     0.213115   \n",
       "4             0.452381      0.375           0.437500  0.241379     0.344262   \n",
       "\n",
       "   Combined MPG  CO2 Emission Grams/Mile  Fuel Cost/Year  Cluster  \n",
       "0      0.303571                 0.411765        0.336207        3  \n",
       "1      0.232143                 0.538462        0.439655        6  \n",
       "2      0.285714                 0.437500        0.362069        6  \n",
       "3      0.232143                 0.538462        0.439655        6  \n",
       "4      0.285714                 0.437500        0.439655        6  "
      ]
     },
     "execution_count": 87,
     "metadata": {},
     "output_type": "execute_result"
    }
   ],
   "source": [
    "cluster_results = vehicle_clusters.copy()\n",
    "cluster_results['Cluster'] = clusters\n",
    "cluster_results.head()"
   ]
  },
  {
   "cell_type": "markdown",
   "metadata": {},
   "source": [
    "### summarize_clustering"
   ]
  },
  {
   "cell_type": "code",
   "execution_count": 102,
   "metadata": {
    "collapsed": false
   },
   "outputs": [
    {
     "data": {
      "text/html": [
       "<div>\n",
       "<table border=\"1\" class=\"dataframe\">\n",
       "  <thead>\n",
       "    <tr style=\"text-align: right;\">\n",
       "      <th></th>\n",
       "      <th>Cluster</th>\n",
       "      <th>Count</th>\n",
       "    </tr>\n",
       "  </thead>\n",
       "  <tbody>\n",
       "    <tr>\n",
       "      <th>0</th>\n",
       "      <td>0</td>\n",
       "      <td>6334</td>\n",
       "    </tr>\n",
       "    <tr>\n",
       "      <th>1</th>\n",
       "      <td>1</td>\n",
       "      <td>2912</td>\n",
       "    </tr>\n",
       "    <tr>\n",
       "      <th>2</th>\n",
       "      <td>2</td>\n",
       "      <td>3999</td>\n",
       "    </tr>\n",
       "    <tr>\n",
       "      <th>3</th>\n",
       "      <td>3</td>\n",
       "      <td>5838</td>\n",
       "    </tr>\n",
       "    <tr>\n",
       "      <th>4</th>\n",
       "      <td>4</td>\n",
       "      <td>7704</td>\n",
       "    </tr>\n",
       "    <tr>\n",
       "      <th>5</th>\n",
       "      <td>5</td>\n",
       "      <td>1826</td>\n",
       "    </tr>\n",
       "    <tr>\n",
       "      <th>6</th>\n",
       "      <td>6</td>\n",
       "      <td>4766</td>\n",
       "    </tr>\n",
       "    <tr>\n",
       "      <th>7</th>\n",
       "      <td>7</td>\n",
       "      <td>1716</td>\n",
       "    </tr>\n",
       "  </tbody>\n",
       "</table>\n",
       "</div>"
      ],
      "text/plain": [
       "   Cluster  Count\n",
       "0        0   6334\n",
       "1        1   2912\n",
       "2        2   3999\n",
       "3        3   5838\n",
       "4        4   7704\n",
       "5        5   1826\n",
       "6        6   4766\n",
       "7        7   1716"
      ]
     },
     "execution_count": 102,
     "metadata": {},
     "output_type": "execute_result"
    }
   ],
   "source": [
    "cluster_size = cluster_results.groupby('Cluster').size().reset_index()\n",
    "cluster_size.columns = ['Cluster', 'Count']\n",
    "cluster_size"
   ]
  },
  {
   "cell_type": "code",
   "execution_count": 116,
   "metadata": {
    "collapsed": false
   },
   "outputs": [
    {
     "data": {
      "text/html": [
       "<div>\n",
       "<table border=\"1\" class=\"dataframe\">\n",
       "  <thead>\n",
       "    <tr style=\"text-align: right;\">\n",
       "      <th></th>\n",
       "      <th>Cluster</th>\n",
       "      <th>Count</th>\n",
       "    </tr>\n",
       "  </thead>\n",
       "  <tbody>\n",
       "    <tr>\n",
       "      <th>0</th>\n",
       "      <td>0</td>\n",
       "      <td>6334</td>\n",
       "    </tr>\n",
       "    <tr>\n",
       "      <th>1</th>\n",
       "      <td>1</td>\n",
       "      <td>2912</td>\n",
       "    </tr>\n",
       "    <tr>\n",
       "      <th>2</th>\n",
       "      <td>2</td>\n",
       "      <td>3999</td>\n",
       "    </tr>\n",
       "    <tr>\n",
       "      <th>3</th>\n",
       "      <td>3</td>\n",
       "      <td>5838</td>\n",
       "    </tr>\n",
       "    <tr>\n",
       "      <th>4</th>\n",
       "      <td>4</td>\n",
       "      <td>7704</td>\n",
       "    </tr>\n",
       "    <tr>\n",
       "      <th>5</th>\n",
       "      <td>5</td>\n",
       "      <td>1826</td>\n",
       "    </tr>\n",
       "    <tr>\n",
       "      <th>6</th>\n",
       "      <td>6</td>\n",
       "      <td>4766</td>\n",
       "    </tr>\n",
       "    <tr>\n",
       "      <th>7</th>\n",
       "      <td>7</td>\n",
       "      <td>1716</td>\n",
       "    </tr>\n",
       "  </tbody>\n",
       "</table>\n",
       "</div>"
      ],
      "text/plain": [
       "   Cluster  Count\n",
       "0        0   6334\n",
       "1        1   2912\n",
       "2        2   3999\n",
       "3        3   5838\n",
       "4        4   7704\n",
       "5        5   1826\n",
       "6        6   4766\n",
       "7        7   1716"
      ]
     },
     "execution_count": 116,
     "metadata": {},
     "output_type": "execute_result"
    }
   ],
   "source": [
    "cluster_size = cluster_results.groupby(['Cluster']).size().reset_index()\n",
    "cluster_size.columns = ['Cluster', 'Count']\n",
    "cluster_size"
   ]
  },
  {
   "cell_type": "code",
   "execution_count": 117,
   "metadata": {
    "collapsed": false
   },
   "outputs": [
    {
     "data": {
      "text/html": [
       "<div>\n",
       "<table border=\"1\" class=\"dataframe\">\n",
       "  <thead>\n",
       "    <tr style=\"text-align: right;\">\n",
       "      <th></th>\n",
       "      <th>Cluster</th>\n",
       "      <th>Engine Displacement</th>\n",
       "      <th>Cylinders</th>\n",
       "      <th>Fuel Barrels/Year</th>\n",
       "      <th>City MPG</th>\n",
       "      <th>Highway MPG</th>\n",
       "      <th>Combined MPG</th>\n",
       "      <th>CO2 Emission Grams/Mile</th>\n",
       "      <th>Fuel Cost/Year</th>\n",
       "    </tr>\n",
       "  </thead>\n",
       "  <tbody>\n",
       "    <tr>\n",
       "      <th>0</th>\n",
       "      <td>0</td>\n",
       "      <td>0.241518</td>\n",
       "      <td>0.254243</td>\n",
       "      <td>0.281230</td>\n",
       "      <td>0.383366</td>\n",
       "      <td>0.487341</td>\n",
       "      <td>0.447303</td>\n",
       "      <td>0.281191</td>\n",
       "      <td>0.240410</td>\n",
       "    </tr>\n",
       "    <tr>\n",
       "      <th>1</th>\n",
       "      <td>1</td>\n",
       "      <td>0.595553</td>\n",
       "      <td>0.500215</td>\n",
       "      <td>0.395664</td>\n",
       "      <td>0.262860</td>\n",
       "      <td>0.360903</td>\n",
       "      <td>0.315677</td>\n",
       "      <td>0.400217</td>\n",
       "      <td>0.364192</td>\n",
       "    </tr>\n",
       "    <tr>\n",
       "      <th>2</th>\n",
       "      <td>2</td>\n",
       "      <td>0.631932</td>\n",
       "      <td>0.501500</td>\n",
       "      <td>0.495338</td>\n",
       "      <td>0.218378</td>\n",
       "      <td>0.281825</td>\n",
       "      <td>0.255475</td>\n",
       "      <td>0.495517</td>\n",
       "      <td>0.422733</td>\n",
       "    </tr>\n",
       "    <tr>\n",
       "      <th>3</th>\n",
       "      <td>3</td>\n",
       "      <td>0.267466</td>\n",
       "      <td>0.253950</td>\n",
       "      <td>0.346015</td>\n",
       "      <td>0.314615</td>\n",
       "      <td>0.392238</td>\n",
       "      <td>0.363536</td>\n",
       "      <td>0.345953</td>\n",
       "      <td>0.298589</td>\n",
       "    </tr>\n",
       "    <tr>\n",
       "      <th>4</th>\n",
       "      <td>4</td>\n",
       "      <td>0.382627</td>\n",
       "      <td>0.374854</td>\n",
       "      <td>0.353653</td>\n",
       "      <td>0.297454</td>\n",
       "      <td>0.405367</td>\n",
       "      <td>0.355896</td>\n",
       "      <td>0.353625</td>\n",
       "      <td>0.314951</td>\n",
       "    </tr>\n",
       "    <tr>\n",
       "      <th>5</th>\n",
       "      <td>5</td>\n",
       "      <td>0.200601</td>\n",
       "      <td>0.244660</td>\n",
       "      <td>0.215546</td>\n",
       "      <td>0.518356</td>\n",
       "      <td>0.616882</td>\n",
       "      <td>0.587946</td>\n",
       "      <td>0.216954</td>\n",
       "      <td>0.183282</td>\n",
       "    </tr>\n",
       "    <tr>\n",
       "      <th>6</th>\n",
       "      <td>6</td>\n",
       "      <td>0.446931</td>\n",
       "      <td>0.373387</td>\n",
       "      <td>0.437697</td>\n",
       "      <td>0.249606</td>\n",
       "      <td>0.310320</td>\n",
       "      <td>0.287299</td>\n",
       "      <td>0.437672</td>\n",
       "      <td>0.371041</td>\n",
       "    </tr>\n",
       "    <tr>\n",
       "      <th>7</th>\n",
       "      <td>7</td>\n",
       "      <td>0.682005</td>\n",
       "      <td>0.570950</td>\n",
       "      <td>0.601364</td>\n",
       "      <td>0.178472</td>\n",
       "      <td>0.234963</td>\n",
       "      <td>0.210290</td>\n",
       "      <td>0.601190</td>\n",
       "      <td>0.544153</td>\n",
       "    </tr>\n",
       "  </tbody>\n",
       "</table>\n",
       "</div>"
      ],
      "text/plain": [
       "   Cluster  Engine Displacement  Cylinders  Fuel Barrels/Year  City MPG  \\\n",
       "0        0             0.241518   0.254243           0.281230  0.383366   \n",
       "1        1             0.595553   0.500215           0.395664  0.262860   \n",
       "2        2             0.631932   0.501500           0.495338  0.218378   \n",
       "3        3             0.267466   0.253950           0.346015  0.314615   \n",
       "4        4             0.382627   0.374854           0.353653  0.297454   \n",
       "5        5             0.200601   0.244660           0.215546  0.518356   \n",
       "6        6             0.446931   0.373387           0.437697  0.249606   \n",
       "7        7             0.682005   0.570950           0.601364  0.178472   \n",
       "\n",
       "   Highway MPG  Combined MPG  CO2 Emission Grams/Mile  Fuel Cost/Year  \n",
       "0     0.487341      0.447303                 0.281191        0.240410  \n",
       "1     0.360903      0.315677                 0.400217        0.364192  \n",
       "2     0.281825      0.255475                 0.495517        0.422733  \n",
       "3     0.392238      0.363536                 0.345953        0.298589  \n",
       "4     0.405367      0.355896                 0.353625        0.314951  \n",
       "5     0.616882      0.587946                 0.216954        0.183282  \n",
       "6     0.310320      0.287299                 0.437672        0.371041  \n",
       "7     0.234963      0.210290                 0.601190        0.544153  "
      ]
     },
     "execution_count": 117,
     "metadata": {},
     "output_type": "execute_result"
    }
   ],
   "source": [
    "cluster_means = cluster_results.groupby(['Cluster'], as_index=False).mean()\n",
    "cluster_means"
   ]
  },
  {
   "cell_type": "code",
   "execution_count": 118,
   "metadata": {
    "collapsed": false
   },
   "outputs": [
    {
     "data": {
      "text/html": [
       "<div>\n",
       "<table border=\"1\" class=\"dataframe\">\n",
       "  <thead>\n",
       "    <tr style=\"text-align: right;\">\n",
       "      <th></th>\n",
       "      <th>Cluster</th>\n",
       "      <th>Count</th>\n",
       "      <th>Engine Displacement</th>\n",
       "      <th>Cylinders</th>\n",
       "      <th>Fuel Barrels/Year</th>\n",
       "      <th>City MPG</th>\n",
       "      <th>Highway MPG</th>\n",
       "      <th>Combined MPG</th>\n",
       "      <th>CO2 Emission Grams/Mile</th>\n",
       "      <th>Fuel Cost/Year</th>\n",
       "    </tr>\n",
       "  </thead>\n",
       "  <tbody>\n",
       "    <tr>\n",
       "      <th>0</th>\n",
       "      <td>0</td>\n",
       "      <td>6334</td>\n",
       "      <td>0.241518</td>\n",
       "      <td>0.254243</td>\n",
       "      <td>0.281230</td>\n",
       "      <td>0.383366</td>\n",
       "      <td>0.487341</td>\n",
       "      <td>0.447303</td>\n",
       "      <td>0.281191</td>\n",
       "      <td>0.240410</td>\n",
       "    </tr>\n",
       "    <tr>\n",
       "      <th>1</th>\n",
       "      <td>1</td>\n",
       "      <td>2912</td>\n",
       "      <td>0.595553</td>\n",
       "      <td>0.500215</td>\n",
       "      <td>0.395664</td>\n",
       "      <td>0.262860</td>\n",
       "      <td>0.360903</td>\n",
       "      <td>0.315677</td>\n",
       "      <td>0.400217</td>\n",
       "      <td>0.364192</td>\n",
       "    </tr>\n",
       "    <tr>\n",
       "      <th>2</th>\n",
       "      <td>2</td>\n",
       "      <td>3999</td>\n",
       "      <td>0.631932</td>\n",
       "      <td>0.501500</td>\n",
       "      <td>0.495338</td>\n",
       "      <td>0.218378</td>\n",
       "      <td>0.281825</td>\n",
       "      <td>0.255475</td>\n",
       "      <td>0.495517</td>\n",
       "      <td>0.422733</td>\n",
       "    </tr>\n",
       "    <tr>\n",
       "      <th>3</th>\n",
       "      <td>3</td>\n",
       "      <td>5838</td>\n",
       "      <td>0.267466</td>\n",
       "      <td>0.253950</td>\n",
       "      <td>0.346015</td>\n",
       "      <td>0.314615</td>\n",
       "      <td>0.392238</td>\n",
       "      <td>0.363536</td>\n",
       "      <td>0.345953</td>\n",
       "      <td>0.298589</td>\n",
       "    </tr>\n",
       "    <tr>\n",
       "      <th>4</th>\n",
       "      <td>4</td>\n",
       "      <td>7704</td>\n",
       "      <td>0.382627</td>\n",
       "      <td>0.374854</td>\n",
       "      <td>0.353653</td>\n",
       "      <td>0.297454</td>\n",
       "      <td>0.405367</td>\n",
       "      <td>0.355896</td>\n",
       "      <td>0.353625</td>\n",
       "      <td>0.314951</td>\n",
       "    </tr>\n",
       "    <tr>\n",
       "      <th>5</th>\n",
       "      <td>5</td>\n",
       "      <td>1826</td>\n",
       "      <td>0.200601</td>\n",
       "      <td>0.244660</td>\n",
       "      <td>0.215546</td>\n",
       "      <td>0.518356</td>\n",
       "      <td>0.616882</td>\n",
       "      <td>0.587946</td>\n",
       "      <td>0.216954</td>\n",
       "      <td>0.183282</td>\n",
       "    </tr>\n",
       "    <tr>\n",
       "      <th>6</th>\n",
       "      <td>6</td>\n",
       "      <td>4766</td>\n",
       "      <td>0.446931</td>\n",
       "      <td>0.373387</td>\n",
       "      <td>0.437697</td>\n",
       "      <td>0.249606</td>\n",
       "      <td>0.310320</td>\n",
       "      <td>0.287299</td>\n",
       "      <td>0.437672</td>\n",
       "      <td>0.371041</td>\n",
       "    </tr>\n",
       "    <tr>\n",
       "      <th>7</th>\n",
       "      <td>7</td>\n",
       "      <td>1716</td>\n",
       "      <td>0.682005</td>\n",
       "      <td>0.570950</td>\n",
       "      <td>0.601364</td>\n",
       "      <td>0.178472</td>\n",
       "      <td>0.234963</td>\n",
       "      <td>0.210290</td>\n",
       "      <td>0.601190</td>\n",
       "      <td>0.544153</td>\n",
       "    </tr>\n",
       "  </tbody>\n",
       "</table>\n",
       "</div>"
      ],
      "text/plain": [
       "   Cluster  Count  Engine Displacement  Cylinders  Fuel Barrels/Year  \\\n",
       "0        0   6334             0.241518   0.254243           0.281230   \n",
       "1        1   2912             0.595553   0.500215           0.395664   \n",
       "2        2   3999             0.631932   0.501500           0.495338   \n",
       "3        3   5838             0.267466   0.253950           0.346015   \n",
       "4        4   7704             0.382627   0.374854           0.353653   \n",
       "5        5   1826             0.200601   0.244660           0.215546   \n",
       "6        6   4766             0.446931   0.373387           0.437697   \n",
       "7        7   1716             0.682005   0.570950           0.601364   \n",
       "\n",
       "   City MPG  Highway MPG  Combined MPG  CO2 Emission Grams/Mile  \\\n",
       "0  0.383366     0.487341      0.447303                 0.281191   \n",
       "1  0.262860     0.360903      0.315677                 0.400217   \n",
       "2  0.218378     0.281825      0.255475                 0.495517   \n",
       "3  0.314615     0.392238      0.363536                 0.345953   \n",
       "4  0.297454     0.405367      0.355896                 0.353625   \n",
       "5  0.518356     0.616882      0.587946                 0.216954   \n",
       "6  0.249606     0.310320      0.287299                 0.437672   \n",
       "7  0.178472     0.234963      0.210290                 0.601190   \n",
       "\n",
       "   Fuel Cost/Year  \n",
       "0        0.240410  \n",
       "1        0.364192  \n",
       "2        0.422733  \n",
       "3        0.298589  \n",
       "4        0.314951  \n",
       "5        0.183282  \n",
       "6        0.371041  \n",
       "7        0.544153  "
      ]
     },
     "execution_count": 118,
     "metadata": {},
     "output_type": "execute_result"
    }
   ],
   "source": [
    "cluster_summary = pd.merge(cluster_size, cluster_means, on='Cluster')\n",
    "cluster_summary"
   ]
  },
  {
   "cell_type": "code",
   "execution_count": 63,
   "metadata": {
    "collapsed": false
   },
   "outputs": [],
   "source": [
    "from sklearn.cluster import KMeans\n",
    "\n",
    "def kmeans_cluster(df, n_clusters=2):\n",
    "    model = KMeans(n_clusters=n_clusters, random_state=1)\n",
    "    clusters = model.fit_predict(df)\n",
    "    cluster_results = df.copy()\n",
    "    cluster_results['Cluster'] = clusters\n",
    "    return cluster_results"
   ]
  },
  {
   "cell_type": "code",
   "execution_count": 64,
   "metadata": {
    "collapsed": true
   },
   "outputs": [],
   "source": [
    "def summarize_clustering(results):\n",
    "    cluster_size = results.groupby(['Cluster']).size().reset_index()\n",
    "    cluster_size.columns = ['Cluster', 'Count']\n",
    "    cluster_means = results.groupby(['Cluster'], as_index=False).mean()\n",
    "    cluster_summary = pd.merge(cluster_size, cluster_means, on='Cluster')\n",
    "    return cluster_summary"
   ]
  },
  {
   "cell_type": "code",
   "execution_count": 119,
   "metadata": {
    "collapsed": false
   },
   "outputs": [
    {
     "data": {
      "text/html": [
       "<div>\n",
       "<table border=\"1\" class=\"dataframe\">\n",
       "  <thead>\n",
       "    <tr style=\"text-align: right;\">\n",
       "      <th></th>\n",
       "      <th>Cluster</th>\n",
       "      <th>Count</th>\n",
       "      <th>Engine Displacement</th>\n",
       "      <th>Cylinders</th>\n",
       "      <th>Fuel Barrels/Year</th>\n",
       "      <th>City MPG</th>\n",
       "      <th>Highway MPG</th>\n",
       "      <th>Combined MPG</th>\n",
       "      <th>CO2 Emission Grams/Mile</th>\n",
       "      <th>Fuel Cost/Year</th>\n",
       "    </tr>\n",
       "  </thead>\n",
       "  <tbody>\n",
       "    <tr>\n",
       "      <th>0</th>\n",
       "      <td>0</td>\n",
       "      <td>6334</td>\n",
       "      <td>0.241518</td>\n",
       "      <td>0.254243</td>\n",
       "      <td>0.281230</td>\n",
       "      <td>0.383366</td>\n",
       "      <td>0.487341</td>\n",
       "      <td>0.447303</td>\n",
       "      <td>0.281191</td>\n",
       "      <td>0.240410</td>\n",
       "    </tr>\n",
       "    <tr>\n",
       "      <th>1</th>\n",
       "      <td>1</td>\n",
       "      <td>2912</td>\n",
       "      <td>0.595553</td>\n",
       "      <td>0.500215</td>\n",
       "      <td>0.395664</td>\n",
       "      <td>0.262860</td>\n",
       "      <td>0.360903</td>\n",
       "      <td>0.315677</td>\n",
       "      <td>0.400217</td>\n",
       "      <td>0.364192</td>\n",
       "    </tr>\n",
       "    <tr>\n",
       "      <th>2</th>\n",
       "      <td>2</td>\n",
       "      <td>3999</td>\n",
       "      <td>0.631932</td>\n",
       "      <td>0.501500</td>\n",
       "      <td>0.495338</td>\n",
       "      <td>0.218378</td>\n",
       "      <td>0.281825</td>\n",
       "      <td>0.255475</td>\n",
       "      <td>0.495517</td>\n",
       "      <td>0.422733</td>\n",
       "    </tr>\n",
       "    <tr>\n",
       "      <th>3</th>\n",
       "      <td>3</td>\n",
       "      <td>5838</td>\n",
       "      <td>0.267466</td>\n",
       "      <td>0.253950</td>\n",
       "      <td>0.346015</td>\n",
       "      <td>0.314615</td>\n",
       "      <td>0.392238</td>\n",
       "      <td>0.363536</td>\n",
       "      <td>0.345953</td>\n",
       "      <td>0.298589</td>\n",
       "    </tr>\n",
       "    <tr>\n",
       "      <th>4</th>\n",
       "      <td>4</td>\n",
       "      <td>7704</td>\n",
       "      <td>0.382627</td>\n",
       "      <td>0.374854</td>\n",
       "      <td>0.353653</td>\n",
       "      <td>0.297454</td>\n",
       "      <td>0.405367</td>\n",
       "      <td>0.355896</td>\n",
       "      <td>0.353625</td>\n",
       "      <td>0.314951</td>\n",
       "    </tr>\n",
       "    <tr>\n",
       "      <th>5</th>\n",
       "      <td>5</td>\n",
       "      <td>1826</td>\n",
       "      <td>0.200601</td>\n",
       "      <td>0.244660</td>\n",
       "      <td>0.215546</td>\n",
       "      <td>0.518356</td>\n",
       "      <td>0.616882</td>\n",
       "      <td>0.587946</td>\n",
       "      <td>0.216954</td>\n",
       "      <td>0.183282</td>\n",
       "    </tr>\n",
       "    <tr>\n",
       "      <th>6</th>\n",
       "      <td>6</td>\n",
       "      <td>4766</td>\n",
       "      <td>0.446931</td>\n",
       "      <td>0.373387</td>\n",
       "      <td>0.437697</td>\n",
       "      <td>0.249606</td>\n",
       "      <td>0.310320</td>\n",
       "      <td>0.287299</td>\n",
       "      <td>0.437672</td>\n",
       "      <td>0.371041</td>\n",
       "    </tr>\n",
       "    <tr>\n",
       "      <th>7</th>\n",
       "      <td>7</td>\n",
       "      <td>1716</td>\n",
       "      <td>0.682005</td>\n",
       "      <td>0.570950</td>\n",
       "      <td>0.601364</td>\n",
       "      <td>0.178472</td>\n",
       "      <td>0.234963</td>\n",
       "      <td>0.210290</td>\n",
       "      <td>0.601190</td>\n",
       "      <td>0.544153</td>\n",
       "    </tr>\n",
       "  </tbody>\n",
       "</table>\n",
       "</div>"
      ],
      "text/plain": [
       "   Cluster  Count  Engine Displacement  Cylinders  Fuel Barrels/Year  \\\n",
       "0        0   6334             0.241518   0.254243           0.281230   \n",
       "1        1   2912             0.595553   0.500215           0.395664   \n",
       "2        2   3999             0.631932   0.501500           0.495338   \n",
       "3        3   5838             0.267466   0.253950           0.346015   \n",
       "4        4   7704             0.382627   0.374854           0.353653   \n",
       "5        5   1826             0.200601   0.244660           0.215546   \n",
       "6        6   4766             0.446931   0.373387           0.437697   \n",
       "7        7   1716             0.682005   0.570950           0.601364   \n",
       "\n",
       "   City MPG  Highway MPG  Combined MPG  CO2 Emission Grams/Mile  \\\n",
       "0  0.383366     0.487341      0.447303                 0.281191   \n",
       "1  0.262860     0.360903      0.315677                 0.400217   \n",
       "2  0.218378     0.281825      0.255475                 0.495517   \n",
       "3  0.314615     0.392238      0.363536                 0.345953   \n",
       "4  0.297454     0.405367      0.355896                 0.353625   \n",
       "5  0.518356     0.616882      0.587946                 0.216954   \n",
       "6  0.249606     0.310320      0.287299                 0.437672   \n",
       "7  0.178472     0.234963      0.210290                 0.601190   \n",
       "\n",
       "   Fuel Cost/Year  \n",
       "0        0.240410  \n",
       "1        0.364192  \n",
       "2        0.422733  \n",
       "3        0.298589  \n",
       "4        0.314951  \n",
       "5        0.183282  \n",
       "6        0.371041  \n",
       "7        0.544153  "
      ]
     },
     "execution_count": 119,
     "metadata": {},
     "output_type": "execute_result"
    }
   ],
   "source": [
    "cluster_results = kmeans_cluster(vehicle_clusters, 8)\n",
    "cluster_summary = summarize_clustering(cluster_results)\n",
    "cluster_summary"
   ]
  },
  {
   "cell_type": "code",
   "execution_count": 137,
   "metadata": {
    "collapsed": false
   },
   "outputs": [
    {
     "data": {
      "text/plain": [
       "<matplotlib.axes._subplots.AxesSubplot at 0x1d2228e7278>"
      ]
     },
     "execution_count": 137,
     "metadata": {},
     "output_type": "execute_result"
    },
    {
     "data": {
      "image/png": "[encoded data removed]",
      "text/plain": [
       "<matplotlib.figure.Figure at 0x1d2228f41d0>"
      ]
     },
     "metadata": {},
     "output_type": "display_data"
    }
   ],
   "source": [
    "import matplotlib.pyplot as plt\n",
    "import seaborn as sns\n",
    "%matplotlib inline\n",
    "from pylab import rcParams\n",
    "rcParams['figure.figsize'] = 14, 8\n",
    "\n",
    "sns.heatmap(cluster_summary[cluster_columns].transpose(), annot=True)"
   ]
  },
  {
   "cell_type": "markdown",
   "metadata": {},
   "source": [
    "- Clusters 3,4 look pretty similar\n",
    "- Clusters 1,2,6,7 also look similar\n",
    "\n",
    "So let's reduce the number of clusters and have a look again"
   ]
  },
  {
   "cell_type": "code",
   "execution_count": 138,
   "metadata": {
    "collapsed": false
   },
   "outputs": [
    {
     "data": {
      "text/plain": [
       "<matplotlib.axes._subplots.AxesSubplot at 0x1d222cee208>"
      ]
     },
     "execution_count": 138,
     "metadata": {},
     "output_type": "execute_result"
    },
    {
     "data": {
      "image/png": "[encoded data removed]",
      "text/plain": [
       "<matplotlib.figure.Figure at 0x1d222cfcf60>"
      ]
     },
     "metadata": {},
     "output_type": "display_data"
    }
   ],
   "source": [
    "cluster_results = kmeans_cluster(vehicle_clusters, 4)\n",
    "cluster_summary = summarize_clustering(cluster_results)\n",
    "\n",
    "sns.heatmap(cluster_summary[cluster_columns].transpose(), annot=True)"
   ]
  },
  {
   "cell_type": "code",
   "execution_count": 143,
   "metadata": {
    "collapsed": false
   },
   "outputs": [
    {
     "data": {
      "text/html": [
       "<div>\n",
       "<table border=\"1\" class=\"dataframe\">\n",
       "  <thead>\n",
       "    <tr style=\"text-align: right;\">\n",
       "      <th></th>\n",
       "      <th>Cluster</th>\n",
       "      <th>Count</th>\n",
       "      <th>Engine Displacement</th>\n",
       "      <th>Cylinders</th>\n",
       "      <th>Fuel Barrels/Year</th>\n",
       "      <th>City MPG</th>\n",
       "      <th>Highway MPG</th>\n",
       "      <th>Combined MPG</th>\n",
       "      <th>CO2 Emission Grams/Mile</th>\n",
       "      <th>Fuel Cost/Year</th>\n",
       "    </tr>\n",
       "  </thead>\n",
       "  <tbody>\n",
       "    <tr>\n",
       "      <th>0</th>\n",
       "      <td>0</td>\n",
       "      <td>8195</td>\n",
       "      <td>0.230890</td>\n",
       "      <td>0.251411</td>\n",
       "      <td>0.266962</td>\n",
       "      <td>0.413265</td>\n",
       "      <td>0.515462</td>\n",
       "      <td>0.478114</td>\n",
       "      <td>0.267262</td>\n",
       "      <td>0.227753</td>\n",
       "    </tr>\n",
       "    <tr>\n",
       "      <th>1</th>\n",
       "      <td>1</td>\n",
       "      <td>8188</td>\n",
       "      <td>0.513292</td>\n",
       "      <td>0.428325</td>\n",
       "      <td>0.423538</td>\n",
       "      <td>0.253255</td>\n",
       "      <td>0.329058</td>\n",
       "      <td>0.296837</td>\n",
       "      <td>0.425091</td>\n",
       "      <td>0.370426</td>\n",
       "    </tr>\n",
       "    <tr>\n",
       "      <th>2</th>\n",
       "      <td>2</td>\n",
       "      <td>13603</td>\n",
       "      <td>0.330854</td>\n",
       "      <td>0.322369</td>\n",
       "      <td>0.352043</td>\n",
       "      <td>0.303940</td>\n",
       "      <td>0.397599</td>\n",
       "      <td>0.357866</td>\n",
       "      <td>0.352017</td>\n",
       "      <td>0.308864</td>\n",
       "    </tr>\n",
       "    <tr>\n",
       "      <th>3</th>\n",
       "      <td>3</td>\n",
       "      <td>5109</td>\n",
       "      <td>0.659905</td>\n",
       "      <td>0.527770</td>\n",
       "      <td>0.533567</td>\n",
       "      <td>0.204116</td>\n",
       "      <td>0.266030</td>\n",
       "      <td>0.239825</td>\n",
       "      <td>0.533659</td>\n",
       "      <td>0.465684</td>\n",
       "    </tr>\n",
       "  </tbody>\n",
       "</table>\n",
       "</div>"
      ],
      "text/plain": [
       "   Cluster  Count  Engine Displacement  Cylinders  Fuel Barrels/Year  \\\n",
       "0        0   8195             0.230890   0.251411           0.266962   \n",
       "1        1   8188             0.513292   0.428325           0.423538   \n",
       "2        2  13603             0.330854   0.322369           0.352043   \n",
       "3        3   5109             0.659905   0.527770           0.533567   \n",
       "\n",
       "   City MPG  Highway MPG  Combined MPG  CO2 Emission Grams/Mile  \\\n",
       "0  0.413265     0.515462      0.478114                 0.267262   \n",
       "1  0.253255     0.329058      0.296837                 0.425091   \n",
       "2  0.303940     0.397599      0.357866                 0.352017   \n",
       "3  0.204116     0.266030      0.239825                 0.533659   \n",
       "\n",
       "   Fuel Cost/Year  \n",
       "0        0.227753  \n",
       "1        0.370426  \n",
       "2        0.308864  \n",
       "3        0.465684  "
      ]
     },
     "execution_count": 143,
     "metadata": {},
     "output_type": "execute_result"
    }
   ],
   "source": [
    "cluster_summary"
   ]
  },
  {
   "cell_type": "code",
   "execution_count": 155,
   "metadata": {
    "collapsed": false
   },
   "outputs": [
    {
     "name": "stderr",
     "output_type": "stream",
     "text": [
      "C:\\Users\\Orhan\\Anaconda3\\lib\\site-packages\\ipykernel\\__main__.py:2: SettingWithCopyWarning: \n",
      "A value is trying to be set on a copy of a slice from a DataFrame\n",
      "\n",
      "See the caveats in the documentation: http://pandas.pydata.org/pandas-docs/stable/indexing.html#indexing-view-versus-copy\n",
      "  from ipykernel import kernelapp as app\n",
      "C:\\Users\\Orhan\\Anaconda3\\lib\\site-packages\\ipykernel\\__main__.py:3: SettingWithCopyWarning: \n",
      "A value is trying to be set on a copy of a slice from a DataFrame\n",
      "\n",
      "See the caveats in the documentation: http://pandas.pydata.org/pandas-docs/stable/indexing.html#indexing-view-versus-copy\n",
      "  app.launch_new_instance()\n",
      "C:\\Users\\Orhan\\Anaconda3\\lib\\site-packages\\ipykernel\\__main__.py:4: SettingWithCopyWarning: \n",
      "A value is trying to be set on a copy of a slice from a DataFrame\n",
      "\n",
      "See the caveats in the documentation: http://pandas.pydata.org/pandas-docs/stable/indexing.html#indexing-view-versus-copy\n",
      "C:\\Users\\Orhan\\Anaconda3\\lib\\site-packages\\ipykernel\\__main__.py:5: SettingWithCopyWarning: \n",
      "A value is trying to be set on a copy of a slice from a DataFrame\n",
      "\n",
      "See the caveats in the documentation: http://pandas.pydata.org/pandas-docs/stable/indexing.html#indexing-view-versus-copy\n"
     ]
    }
   ],
   "source": [
    "vehicles['Cluster'] = cluster_results['Cluster']\n",
    "vehicles['Cluster'][vehicles['Cluster']==0] = 'Midsized Balanced'\n",
    "vehicles['Cluster'][vehicles['Cluster']==1] = 'Large Inefficient'\n",
    "vehicles['Cluster'][vehicles['Cluster']==2] = 'Large Moderately Efficient'\n",
    "vehicles['Cluster'][vehicles['Cluster']==3] = 'Small Very Efficient'"
   ]
  },
  {
   "cell_type": "code",
   "execution_count": 157,
   "metadata": {
    "collapsed": false
   },
   "outputs": [
    {
     "data": {
      "text/html": [
       "<div>\n",
       "<table border=\"1\" class=\"dataframe\">\n",
       "  <thead>\n",
       "    <tr style=\"text-align: right;\">\n",
       "      <th></th>\n",
       "      <th>Make</th>\n",
       "      <th>Model</th>\n",
       "      <th>Year</th>\n",
       "      <th>Engine Displacement</th>\n",
       "      <th>Cylinders</th>\n",
       "      <th>Transmission</th>\n",
       "      <th>Drivetrain</th>\n",
       "      <th>Vehicle Class</th>\n",
       "      <th>Fuel Type</th>\n",
       "      <th>Fuel Barrels/Year</th>\n",
       "      <th>...</th>\n",
       "      <th>Ethanol</th>\n",
       "      <th>Electric</th>\n",
       "      <th>Propane</th>\n",
       "      <th>Natural Gas</th>\n",
       "      <th>Gas Type</th>\n",
       "      <th>Fuel Efficiency</th>\n",
       "      <th>Engine Size</th>\n",
       "      <th>Emissions</th>\n",
       "      <th>Fuel Cost</th>\n",
       "      <th>Cluster</th>\n",
       "    </tr>\n",
       "  </thead>\n",
       "  <tbody>\n",
       "    <tr>\n",
       "      <th>22671</th>\n",
       "      <td>Suzuki</td>\n",
       "      <td>SX4 Sport/Anniversary Edition</td>\n",
       "      <td>2011</td>\n",
       "      <td>2.0</td>\n",
       "      <td>4.0</td>\n",
       "      <td>Manual 6-spd</td>\n",
       "      <td>Front-Wheel Drive</td>\n",
       "      <td>Compact Cars</td>\n",
       "      <td>Regular</td>\n",
       "      <td>12.677308</td>\n",
       "      <td>...</td>\n",
       "      <td>0</td>\n",
       "      <td>0</td>\n",
       "      <td>0</td>\n",
       "      <td>0</td>\n",
       "      <td>Regular</td>\n",
       "      <td>Very High Efficiency</td>\n",
       "      <td>Very Small Engine</td>\n",
       "      <td>Very Low Emissions</td>\n",
       "      <td>Very Low Fuel Cost</td>\n",
       "      <td>Large Moderately Efficient</td>\n",
       "    </tr>\n",
       "    <tr>\n",
       "      <th>34575</th>\n",
       "      <td>Jeep</td>\n",
       "      <td>Comanche Pickup 2WD</td>\n",
       "      <td>1990</td>\n",
       "      <td>2.5</td>\n",
       "      <td>4.0</td>\n",
       "      <td>Manual 4-spd</td>\n",
       "      <td>Rear-Wheel Drive</td>\n",
       "      <td>Standard Pickup Trucks</td>\n",
       "      <td>Regular</td>\n",
       "      <td>16.480500</td>\n",
       "      <td>...</td>\n",
       "      <td>0</td>\n",
       "      <td>0</td>\n",
       "      <td>0</td>\n",
       "      <td>0</td>\n",
       "      <td>Regular</td>\n",
       "      <td>Moderate Efficiency</td>\n",
       "      <td>Small Engine</td>\n",
       "      <td>Low Emissions</td>\n",
       "      <td>Low Fuel Cost</td>\n",
       "      <td>Large Moderately Efficient</td>\n",
       "    </tr>\n",
       "    <tr>\n",
       "      <th>25259</th>\n",
       "      <td>Mercedes-Benz</td>\n",
       "      <td>E350 4Matic</td>\n",
       "      <td>2013</td>\n",
       "      <td>3.5</td>\n",
       "      <td>6.0</td>\n",
       "      <td>Automatic 7-spd</td>\n",
       "      <td>4-Wheel Drive</td>\n",
       "      <td>Midsize Cars</td>\n",
       "      <td>Premium or E85</td>\n",
       "      <td>14.982273</td>\n",
       "      <td>...</td>\n",
       "      <td>1</td>\n",
       "      <td>0</td>\n",
       "      <td>0</td>\n",
       "      <td>0</td>\n",
       "      <td>Premium</td>\n",
       "      <td>High Efficiency</td>\n",
       "      <td>Moderate Engine</td>\n",
       "      <td>Low Emissions</td>\n",
       "      <td>Moderate Fuel Cost</td>\n",
       "      <td>Midsized Balanced</td>\n",
       "    </tr>\n",
       "    <tr>\n",
       "      <th>5543</th>\n",
       "      <td>Ford</td>\n",
       "      <td>Escort</td>\n",
       "      <td>1999</td>\n",
       "      <td>2.0</td>\n",
       "      <td>4.0</td>\n",
       "      <td>Manual 5-spd</td>\n",
       "      <td>Front-Wheel Drive</td>\n",
       "      <td>Compact Cars</td>\n",
       "      <td>Regular</td>\n",
       "      <td>11.771786</td>\n",
       "      <td>...</td>\n",
       "      <td>0</td>\n",
       "      <td>0</td>\n",
       "      <td>0</td>\n",
       "      <td>0</td>\n",
       "      <td>Regular</td>\n",
       "      <td>Very High Efficiency</td>\n",
       "      <td>Very Small Engine</td>\n",
       "      <td>Very Low Emissions</td>\n",
       "      <td>Very Low Fuel Cost</td>\n",
       "      <td>Small Very Efficient</td>\n",
       "    </tr>\n",
       "    <tr>\n",
       "      <th>24307</th>\n",
       "      <td>Ford</td>\n",
       "      <td>F150 Pickup 4WD FFV</td>\n",
       "      <td>2012</td>\n",
       "      <td>3.7</td>\n",
       "      <td>6.0</td>\n",
       "      <td>Automatic (S6)</td>\n",
       "      <td>Part-time 4-Wheel Drive</td>\n",
       "      <td>Standard Pickup Trucks 4WD</td>\n",
       "      <td>Gasoline or E85</td>\n",
       "      <td>18.311667</td>\n",
       "      <td>...</td>\n",
       "      <td>1</td>\n",
       "      <td>0</td>\n",
       "      <td>0</td>\n",
       "      <td>0</td>\n",
       "      <td>Regular</td>\n",
       "      <td>Low Efficiency</td>\n",
       "      <td>Large Engine</td>\n",
       "      <td>Moderate Emissions</td>\n",
       "      <td>Moderate Fuel Cost</td>\n",
       "      <td>Midsized Balanced</td>\n",
       "    </tr>\n",
       "    <tr>\n",
       "      <th>9354</th>\n",
       "      <td>Hyundai</td>\n",
       "      <td>Tiburon</td>\n",
       "      <td>2003</td>\n",
       "      <td>2.7</td>\n",
       "      <td>6.0</td>\n",
       "      <td>Manual 5-spd</td>\n",
       "      <td>Front-Wheel Drive</td>\n",
       "      <td>Subcompact Cars</td>\n",
       "      <td>Regular</td>\n",
       "      <td>16.480500</td>\n",
       "      <td>...</td>\n",
       "      <td>0</td>\n",
       "      <td>0</td>\n",
       "      <td>0</td>\n",
       "      <td>0</td>\n",
       "      <td>Regular</td>\n",
       "      <td>Moderate Efficiency</td>\n",
       "      <td>Moderate Engine</td>\n",
       "      <td>Low Emissions</td>\n",
       "      <td>Low Fuel Cost</td>\n",
       "      <td>Small Very Efficient</td>\n",
       "    </tr>\n",
       "    <tr>\n",
       "      <th>2614</th>\n",
       "      <td>Ford</td>\n",
       "      <td>E150 Econoline 2WD</td>\n",
       "      <td>1995</td>\n",
       "      <td>5.0</td>\n",
       "      <td>8.0</td>\n",
       "      <td>Automatic 4-spd</td>\n",
       "      <td>Rear-Wheel Drive</td>\n",
       "      <td>Vans</td>\n",
       "      <td>Regular</td>\n",
       "      <td>23.543571</td>\n",
       "      <td>...</td>\n",
       "      <td>0</td>\n",
       "      <td>0</td>\n",
       "      <td>0</td>\n",
       "      <td>0</td>\n",
       "      <td>Regular</td>\n",
       "      <td>Very Low Efficiency</td>\n",
       "      <td>Very Large Engine</td>\n",
       "      <td>Very High Emissions</td>\n",
       "      <td>Very High Fuel Cost</td>\n",
       "      <td>Small Very Efficient</td>\n",
       "    </tr>\n",
       "    <tr>\n",
       "      <th>10107</th>\n",
       "      <td>Nissan</td>\n",
       "      <td>Xterra V6 2WD</td>\n",
       "      <td>2003</td>\n",
       "      <td>3.3</td>\n",
       "      <td>6.0</td>\n",
       "      <td>Manual 5-spd</td>\n",
       "      <td>Rear-Wheel Drive</td>\n",
       "      <td>Sport Utility Vehicle - 2WD</td>\n",
       "      <td>Regular</td>\n",
       "      <td>19.388824</td>\n",
       "      <td>...</td>\n",
       "      <td>0</td>\n",
       "      <td>0</td>\n",
       "      <td>0</td>\n",
       "      <td>0</td>\n",
       "      <td>Regular</td>\n",
       "      <td>Low Efficiency</td>\n",
       "      <td>Moderate Engine</td>\n",
       "      <td>High Emissions</td>\n",
       "      <td>Moderate Fuel Cost</td>\n",
       "      <td>Large Moderately Efficient</td>\n",
       "    </tr>\n",
       "    <tr>\n",
       "      <th>29222</th>\n",
       "      <td>Chrysler</td>\n",
       "      <td>200 AWD</td>\n",
       "      <td>2016</td>\n",
       "      <td>3.6</td>\n",
       "      <td>6.0</td>\n",
       "      <td>Automatic 9-spd</td>\n",
       "      <td>All-Wheel Drive</td>\n",
       "      <td>Midsize Cars</td>\n",
       "      <td>Gasoline or E85</td>\n",
       "      <td>14.982273</td>\n",
       "      <td>...</td>\n",
       "      <td>1</td>\n",
       "      <td>0</td>\n",
       "      <td>0</td>\n",
       "      <td>0</td>\n",
       "      <td>Regular</td>\n",
       "      <td>High Efficiency</td>\n",
       "      <td>Large Engine</td>\n",
       "      <td>Low Emissions</td>\n",
       "      <td>Low Fuel Cost</td>\n",
       "      <td>Small Very Efficient</td>\n",
       "    </tr>\n",
       "    <tr>\n",
       "      <th>20522</th>\n",
       "      <td>Mazda</td>\n",
       "      <td>6</td>\n",
       "      <td>2010</td>\n",
       "      <td>2.5</td>\n",
       "      <td>4.0</td>\n",
       "      <td>Manual 6-spd</td>\n",
       "      <td>Front-Wheel Drive</td>\n",
       "      <td>Midsize Cars</td>\n",
       "      <td>Regular</td>\n",
       "      <td>14.330870</td>\n",
       "      <td>...</td>\n",
       "      <td>0</td>\n",
       "      <td>0</td>\n",
       "      <td>0</td>\n",
       "      <td>0</td>\n",
       "      <td>Regular</td>\n",
       "      <td>High Efficiency</td>\n",
       "      <td>Small Engine</td>\n",
       "      <td>Very Low Emissions</td>\n",
       "      <td>Very Low Fuel Cost</td>\n",
       "      <td>Large Moderately Efficient</td>\n",
       "    </tr>\n",
       "  </tbody>\n",
       "</table>\n",
       "<p>10 rows × 29 columns</p>\n",
       "</div>"
      ],
      "text/plain": [
       "                Make                          Model  Year  \\\n",
       "22671         Suzuki  SX4 Sport/Anniversary Edition  2011   \n",
       "34575           Jeep            Comanche Pickup 2WD  1990   \n",
       "25259  Mercedes-Benz                    E350 4Matic  2013   \n",
       "5543            Ford                         Escort  1999   \n",
       "24307           Ford            F150 Pickup 4WD FFV  2012   \n",
       "9354         Hyundai                        Tiburon  2003   \n",
       "2614            Ford             E150 Econoline 2WD  1995   \n",
       "10107         Nissan                  Xterra V6 2WD  2003   \n",
       "29222       Chrysler                        200 AWD  2016   \n",
       "20522          Mazda                              6  2010   \n",
       "\n",
       "       Engine Displacement  Cylinders     Transmission  \\\n",
       "22671                  2.0        4.0     Manual 6-spd   \n",
       "34575                  2.5        4.0     Manual 4-spd   \n",
       "25259                  3.5        6.0  Automatic 7-spd   \n",
       "5543                   2.0        4.0     Manual 5-spd   \n",
       "24307                  3.7        6.0   Automatic (S6)   \n",
       "9354                   2.7        6.0     Manual 5-spd   \n",
       "2614                   5.0        8.0  Automatic 4-spd   \n",
       "10107                  3.3        6.0     Manual 5-spd   \n",
       "29222                  3.6        6.0  Automatic 9-spd   \n",
       "20522                  2.5        4.0     Manual 6-spd   \n",
       "\n",
       "                    Drivetrain                Vehicle Class        Fuel Type  \\\n",
       "22671        Front-Wheel Drive                 Compact Cars          Regular   \n",
       "34575         Rear-Wheel Drive       Standard Pickup Trucks          Regular   \n",
       "25259            4-Wheel Drive                 Midsize Cars   Premium or E85   \n",
       "5543         Front-Wheel Drive                 Compact Cars          Regular   \n",
       "24307  Part-time 4-Wheel Drive   Standard Pickup Trucks 4WD  Gasoline or E85   \n",
       "9354         Front-Wheel Drive              Subcompact Cars          Regular   \n",
       "2614          Rear-Wheel Drive                         Vans          Regular   \n",
       "10107         Rear-Wheel Drive  Sport Utility Vehicle - 2WD          Regular   \n",
       "29222          All-Wheel Drive                 Midsize Cars  Gasoline or E85   \n",
       "20522        Front-Wheel Drive                 Midsize Cars          Regular   \n",
       "\n",
       "       Fuel Barrels/Year             ...              Ethanol  Electric  \\\n",
       "22671          12.677308             ...                    0         0   \n",
       "34575          16.480500             ...                    0         0   \n",
       "25259          14.982273             ...                    1         0   \n",
       "5543           11.771786             ...                    0         0   \n",
       "24307          18.311667             ...                    1         0   \n",
       "9354           16.480500             ...                    0         0   \n",
       "2614           23.543571             ...                    0         0   \n",
       "10107          19.388824             ...                    0         0   \n",
       "29222          14.982273             ...                    1         0   \n",
       "20522          14.330870             ...                    0         0   \n",
       "\n",
       "       Propane  Natural Gas  Gas Type       Fuel Efficiency  \\\n",
       "22671        0            0   Regular  Very High Efficiency   \n",
       "34575        0            0   Regular   Moderate Efficiency   \n",
       "25259        0            0   Premium       High Efficiency   \n",
       "5543         0            0   Regular  Very High Efficiency   \n",
       "24307        0            0   Regular        Low Efficiency   \n",
       "9354         0            0   Regular   Moderate Efficiency   \n",
       "2614         0            0   Regular   Very Low Efficiency   \n",
       "10107        0            0   Regular        Low Efficiency   \n",
       "29222        0            0   Regular       High Efficiency   \n",
       "20522        0            0   Regular       High Efficiency   \n",
       "\n",
       "             Engine Size            Emissions            Fuel Cost  \\\n",
       "22671  Very Small Engine   Very Low Emissions   Very Low Fuel Cost   \n",
       "34575       Small Engine        Low Emissions        Low Fuel Cost   \n",
       "25259    Moderate Engine        Low Emissions   Moderate Fuel Cost   \n",
       "5543   Very Small Engine   Very Low Emissions   Very Low Fuel Cost   \n",
       "24307       Large Engine   Moderate Emissions   Moderate Fuel Cost   \n",
       "9354     Moderate Engine        Low Emissions        Low Fuel Cost   \n",
       "2614   Very Large Engine  Very High Emissions  Very High Fuel Cost   \n",
       "10107    Moderate Engine       High Emissions   Moderate Fuel Cost   \n",
       "29222       Large Engine        Low Emissions        Low Fuel Cost   \n",
       "20522       Small Engine   Very Low Emissions   Very Low Fuel Cost   \n",
       "\n",
       "                          Cluster  \n",
       "22671  Large Moderately Efficient  \n",
       "34575  Large Moderately Efficient  \n",
       "25259           Midsized Balanced  \n",
       "5543         Small Very Efficient  \n",
       "24307           Midsized Balanced  \n",
       "9354         Small Very Efficient  \n",
       "2614         Small Very Efficient  \n",
       "10107  Large Moderately Efficient  \n",
       "29222        Small Very Efficient  \n",
       "20522  Large Moderately Efficient  \n",
       "\n",
       "[10 rows x 29 columns]"
      ]
     },
     "execution_count": 157,
     "metadata": {},
     "output_type": "execute_result"
    }
   ],
   "source": [
    "vehicles.sample(10)"
   ]
  },
  {
   "cell_type": "code",
   "execution_count": null,
   "metadata": {
    "collapsed": true
   },
   "outputs": [],
   "source": []
  }
 ],
 "metadata": {
  "kernelspec": {
   "display_name": "Python [Root]",
   "language": "python",
   "name": "Python [Root]"
  },
  "language_info": {
   "codemirror_mode": {
    "name": "ipython",
    "version": 3
   },
   "file_extension": ".py",
   "mimetype": "text/x-python",
   "name": "python",
   "nbconvert_exporter": "python",
   "pygments_lexer": "ipython3",
   "version": "3.5.2"
  }
 },
 "nbformat": 4,
 "nbformat_minor": 0
}
