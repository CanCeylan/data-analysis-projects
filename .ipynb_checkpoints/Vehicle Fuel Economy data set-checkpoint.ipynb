{
 "cells": [
  {
   "cell_type": "code",
   "execution_count": 4,
   "metadata": {
    "collapsed": true
   },
   "outputs": [],
   "source": [
    "# http://blog.districtdatalabs.com/data-exploration-with-python-2\n",
    "\n",
    "import os\n",
    "import zipfile\n",
    "import requests\n",
    "\n",
    "import pandas as pd"
   ]
  },
  {
   "cell_type": "code",
   "execution_count": 2,
   "metadata": {
    "collapsed": true
   },
   "outputs": [],
   "source": [
    "def download_data(url, name, path='data'):\n",
    "    if not os.path.exists(path):\n",
    "        os.mkdir(path)\n",
    "\n",
    "    response = requests.get(url)\n",
    "    with open(os.path.join(path, name), 'wb') as f:\n",
    "        f.write(response.content)\n",
    "\n",
    "    z = zipfile.ZipFile(os.path.join(path, 'vehicles.zip'))\n",
    "    z.extractall(path)"
   ]
  },
  {
   "cell_type": "code",
   "execution_count": 3,
   "metadata": {
    "collapsed": true
   },
   "outputs": [],
   "source": [
    "VEHICLES = 'http://bit.ly/ddl-cars'\n",
    "\n",
    "download_data(VEHICLES, 'vehicles.zip')"
   ]
  },
  {
   "cell_type": "code",
   "execution_count": 6,
   "metadata": {
    "collapsed": false
   },
   "outputs": [
    {
     "name": "stderr",
     "output_type": "stream",
     "text": [
      "C:\\Users\\Orhan\\Anaconda3\\lib\\site-packages\\IPython\\core\\interactiveshell.py:2723: DtypeWarning: Columns (70,71,72,73,74,76,79) have mixed types. Specify dtype option on import or set low_memory=False.\n",
      "  interactivity=interactivity, compiler=compiler, result=result)\n"
     ]
    },
    {
     "data": {
      "text/html": [
       "<div>\n",
       "<table border=\"1\" class=\"dataframe\">\n",
       "  <thead>\n",
       "    <tr style=\"text-align: right;\">\n",
       "      <th></th>\n",
       "      <th>barrels08</th>\n",
       "      <th>barrelsA08</th>\n",
       "      <th>charge120</th>\n",
       "      <th>charge240</th>\n",
       "      <th>city08</th>\n",
       "      <th>city08U</th>\n",
       "      <th>cityA08</th>\n",
       "      <th>cityA08U</th>\n",
       "      <th>cityCD</th>\n",
       "      <th>cityE</th>\n",
       "      <th>...</th>\n",
       "      <th>mfrCode</th>\n",
       "      <th>c240Dscr</th>\n",
       "      <th>charge240b</th>\n",
       "      <th>c240bDscr</th>\n",
       "      <th>createdOn</th>\n",
       "      <th>modifiedOn</th>\n",
       "      <th>startStop</th>\n",
       "      <th>phevCity</th>\n",
       "      <th>phevHwy</th>\n",
       "      <th>phevComb</th>\n",
       "    </tr>\n",
       "  </thead>\n",
       "  <tbody>\n",
       "    <tr>\n",
       "      <th>0</th>\n",
       "      <td>15.695714</td>\n",
       "      <td>0.0</td>\n",
       "      <td>0.0</td>\n",
       "      <td>0.0</td>\n",
       "      <td>19</td>\n",
       "      <td>0.0</td>\n",
       "      <td>0</td>\n",
       "      <td>0.0</td>\n",
       "      <td>0.0</td>\n",
       "      <td>0.0</td>\n",
       "      <td>...</td>\n",
       "      <td>NaN</td>\n",
       "      <td>NaN</td>\n",
       "      <td>0.0</td>\n",
       "      <td>NaN</td>\n",
       "      <td>Tue Jan 01 00:00:00 EST 2013</td>\n",
       "      <td>Tue Jan 01 00:00:00 EST 2013</td>\n",
       "      <td>NaN</td>\n",
       "      <td>0</td>\n",
       "      <td>0</td>\n",
       "      <td>0</td>\n",
       "    </tr>\n",
       "    <tr>\n",
       "      <th>1</th>\n",
       "      <td>29.964545</td>\n",
       "      <td>0.0</td>\n",
       "      <td>0.0</td>\n",
       "      <td>0.0</td>\n",
       "      <td>9</td>\n",
       "      <td>0.0</td>\n",
       "      <td>0</td>\n",
       "      <td>0.0</td>\n",
       "      <td>0.0</td>\n",
       "      <td>0.0</td>\n",
       "      <td>...</td>\n",
       "      <td>NaN</td>\n",
       "      <td>NaN</td>\n",
       "      <td>0.0</td>\n",
       "      <td>NaN</td>\n",
       "      <td>Tue Jan 01 00:00:00 EST 2013</td>\n",
       "      <td>Tue Jan 01 00:00:00 EST 2013</td>\n",
       "      <td>NaN</td>\n",
       "      <td>0</td>\n",
       "      <td>0</td>\n",
       "      <td>0</td>\n",
       "    </tr>\n",
       "    <tr>\n",
       "      <th>2</th>\n",
       "      <td>12.207778</td>\n",
       "      <td>0.0</td>\n",
       "      <td>0.0</td>\n",
       "      <td>0.0</td>\n",
       "      <td>23</td>\n",
       "      <td>0.0</td>\n",
       "      <td>0</td>\n",
       "      <td>0.0</td>\n",
       "      <td>0.0</td>\n",
       "      <td>0.0</td>\n",
       "      <td>...</td>\n",
       "      <td>NaN</td>\n",
       "      <td>NaN</td>\n",
       "      <td>0.0</td>\n",
       "      <td>NaN</td>\n",
       "      <td>Tue Jan 01 00:00:00 EST 2013</td>\n",
       "      <td>Tue Jan 01 00:00:00 EST 2013</td>\n",
       "      <td>NaN</td>\n",
       "      <td>0</td>\n",
       "      <td>0</td>\n",
       "      <td>0</td>\n",
       "    </tr>\n",
       "    <tr>\n",
       "      <th>3</th>\n",
       "      <td>29.964545</td>\n",
       "      <td>0.0</td>\n",
       "      <td>0.0</td>\n",
       "      <td>0.0</td>\n",
       "      <td>10</td>\n",
       "      <td>0.0</td>\n",
       "      <td>0</td>\n",
       "      <td>0.0</td>\n",
       "      <td>0.0</td>\n",
       "      <td>0.0</td>\n",
       "      <td>...</td>\n",
       "      <td>NaN</td>\n",
       "      <td>NaN</td>\n",
       "      <td>0.0</td>\n",
       "      <td>NaN</td>\n",
       "      <td>Tue Jan 01 00:00:00 EST 2013</td>\n",
       "      <td>Tue Jan 01 00:00:00 EST 2013</td>\n",
       "      <td>NaN</td>\n",
       "      <td>0</td>\n",
       "      <td>0</td>\n",
       "      <td>0</td>\n",
       "    </tr>\n",
       "    <tr>\n",
       "      <th>4</th>\n",
       "      <td>17.347895</td>\n",
       "      <td>0.0</td>\n",
       "      <td>0.0</td>\n",
       "      <td>0.0</td>\n",
       "      <td>17</td>\n",
       "      <td>0.0</td>\n",
       "      <td>0</td>\n",
       "      <td>0.0</td>\n",
       "      <td>0.0</td>\n",
       "      <td>0.0</td>\n",
       "      <td>...</td>\n",
       "      <td>NaN</td>\n",
       "      <td>NaN</td>\n",
       "      <td>0.0</td>\n",
       "      <td>NaN</td>\n",
       "      <td>Tue Jan 01 00:00:00 EST 2013</td>\n",
       "      <td>Tue Jan 01 00:00:00 EST 2013</td>\n",
       "      <td>NaN</td>\n",
       "      <td>0</td>\n",
       "      <td>0</td>\n",
       "      <td>0</td>\n",
       "    </tr>\n",
       "  </tbody>\n",
       "</table>\n",
       "<p>5 rows × 83 columns</p>\n",
       "</div>"
      ],
      "text/plain": [
       "   barrels08  barrelsA08  charge120  charge240  city08  city08U  cityA08  \\\n",
       "0  15.695714         0.0        0.0        0.0      19      0.0        0   \n",
       "1  29.964545         0.0        0.0        0.0       9      0.0        0   \n",
       "2  12.207778         0.0        0.0        0.0      23      0.0        0   \n",
       "3  29.964545         0.0        0.0        0.0      10      0.0        0   \n",
       "4  17.347895         0.0        0.0        0.0      17      0.0        0   \n",
       "\n",
       "   cityA08U  cityCD  cityE    ...     mfrCode  c240Dscr  charge240b  \\\n",
       "0       0.0     0.0    0.0    ...         NaN       NaN         0.0   \n",
       "1       0.0     0.0    0.0    ...         NaN       NaN         0.0   \n",
       "2       0.0     0.0    0.0    ...         NaN       NaN         0.0   \n",
       "3       0.0     0.0    0.0    ...         NaN       NaN         0.0   \n",
       "4       0.0     0.0    0.0    ...         NaN       NaN         0.0   \n",
       "\n",
       "   c240bDscr                     createdOn                    modifiedOn  \\\n",
       "0        NaN  Tue Jan 01 00:00:00 EST 2013  Tue Jan 01 00:00:00 EST 2013   \n",
       "1        NaN  Tue Jan 01 00:00:00 EST 2013  Tue Jan 01 00:00:00 EST 2013   \n",
       "2        NaN  Tue Jan 01 00:00:00 EST 2013  Tue Jan 01 00:00:00 EST 2013   \n",
       "3        NaN  Tue Jan 01 00:00:00 EST 2013  Tue Jan 01 00:00:00 EST 2013   \n",
       "4        NaN  Tue Jan 01 00:00:00 EST 2013  Tue Jan 01 00:00:00 EST 2013   \n",
       "\n",
       "   startStop  phevCity  phevHwy  phevComb  \n",
       "0        NaN         0        0         0  \n",
       "1        NaN         0        0         0  \n",
       "2        NaN         0        0         0  \n",
       "3        NaN         0        0         0  \n",
       "4        NaN         0        0         0  \n",
       "\n",
       "[5 rows x 83 columns]"
      ]
     },
     "execution_count": 6,
     "metadata": {},
     "output_type": "execute_result"
    }
   ],
   "source": [
    "path = 'data'\n",
    "vehicles = pd.read_csv(os.path.join(path, 'vehicles.csv'))\n",
    "vehicles.head()"
   ]
  },
  {
   "cell_type": "code",
   "execution_count": 12,
   "metadata": {
    "collapsed": true
   },
   "outputs": [],
   "source": [
    "select_columns = ['make', 'model', 'year', 'displ', 'cylinders', 'trany', 'drive', 'VClass',\n",
    "                  'fuelType','barrels08', 'city08', 'highway08', 'comb08', 'co2TailpipeGpm', 'fuelCost08']\n",
    "\n",
    "vehicles = vehicles[select_columns][vehicles.year <= 2016].drop_duplicates().dropna()\n",
    "\n",
    "vehicles = vehicles.sort_values(['make', 'model', 'year'])\n",
    "\n",
    "vehicles.columns = ['Make','Model','Year','Engine Displacement','Cylinders',\n",
    "                    'Transmission','Drivetrain','Vehicle Class','Fuel Type',\n",
    "                    'Fuel Barrels/Year','City MPG','Highway MPG','Combined MPG',\n",
    "                    'CO2 Emission Grams/Mile','Fuel Cost/Year']"
   ]
  },
  {
   "cell_type": "code",
   "execution_count": 14,
   "metadata": {
    "collapsed": false
   },
   "outputs": [
    {
     "name": "stdout",
     "output_type": "stream",
     "text": [
      "(35095, 15)\n"
     ]
    },
    {
     "data": {
      "text/html": [
       "<div>\n",
       "<table border=\"1\" class=\"dataframe\">\n",
       "  <thead>\n",
       "    <tr style=\"text-align: right;\">\n",
       "      <th></th>\n",
       "      <th>Make</th>\n",
       "      <th>Model</th>\n",
       "      <th>Year</th>\n",
       "      <th>Engine Displacement</th>\n",
       "      <th>Cylinders</th>\n",
       "      <th>Transmission</th>\n",
       "      <th>Drivetrain</th>\n",
       "      <th>Vehicle Class</th>\n",
       "      <th>Fuel Type</th>\n",
       "      <th>Fuel Barrels/Year</th>\n",
       "      <th>City MPG</th>\n",
       "      <th>Highway MPG</th>\n",
       "      <th>Combined MPG</th>\n",
       "      <th>CO2 Emission Grams/Mile</th>\n",
       "      <th>Fuel Cost/Year</th>\n",
       "    </tr>\n",
       "  </thead>\n",
       "  <tbody>\n",
       "    <tr>\n",
       "      <th>19316</th>\n",
       "      <td>AM General</td>\n",
       "      <td>DJ Po Vehicle 2WD</td>\n",
       "      <td>1984</td>\n",
       "      <td>2.5</td>\n",
       "      <td>4.0</td>\n",
       "      <td>Automatic 3-spd</td>\n",
       "      <td>2-Wheel Drive</td>\n",
       "      <td>Special Purpose Vehicle 2WD</td>\n",
       "      <td>Regular</td>\n",
       "      <td>19.388824</td>\n",
       "      <td>18</td>\n",
       "      <td>17</td>\n",
       "      <td>17</td>\n",
       "      <td>522.764706</td>\n",
       "      <td>1950</td>\n",
       "    </tr>\n",
       "    <tr>\n",
       "      <th>19314</th>\n",
       "      <td>AM General</td>\n",
       "      <td>FJ8c Post Office</td>\n",
       "      <td>1984</td>\n",
       "      <td>4.2</td>\n",
       "      <td>6.0</td>\n",
       "      <td>Automatic 3-spd</td>\n",
       "      <td>2-Wheel Drive</td>\n",
       "      <td>Special Purpose Vehicle 2WD</td>\n",
       "      <td>Regular</td>\n",
       "      <td>25.354615</td>\n",
       "      <td>13</td>\n",
       "      <td>13</td>\n",
       "      <td>13</td>\n",
       "      <td>683.615385</td>\n",
       "      <td>2550</td>\n",
       "    </tr>\n",
       "    <tr>\n",
       "      <th>358</th>\n",
       "      <td>AM General</td>\n",
       "      <td>Post Office DJ5 2WD</td>\n",
       "      <td>1985</td>\n",
       "      <td>2.5</td>\n",
       "      <td>4.0</td>\n",
       "      <td>Automatic 3-spd</td>\n",
       "      <td>Rear-Wheel Drive</td>\n",
       "      <td>Special Purpose Vehicle 2WD</td>\n",
       "      <td>Regular</td>\n",
       "      <td>20.600625</td>\n",
       "      <td>16</td>\n",
       "      <td>17</td>\n",
       "      <td>16</td>\n",
       "      <td>555.437500</td>\n",
       "      <td>2100</td>\n",
       "    </tr>\n",
       "    <tr>\n",
       "      <th>369</th>\n",
       "      <td>AM General</td>\n",
       "      <td>Post Office DJ8 2WD</td>\n",
       "      <td>1985</td>\n",
       "      <td>4.2</td>\n",
       "      <td>6.0</td>\n",
       "      <td>Automatic 3-spd</td>\n",
       "      <td>Rear-Wheel Drive</td>\n",
       "      <td>Special Purpose Vehicle 2WD</td>\n",
       "      <td>Regular</td>\n",
       "      <td>25.354615</td>\n",
       "      <td>13</td>\n",
       "      <td>13</td>\n",
       "      <td>13</td>\n",
       "      <td>683.615385</td>\n",
       "      <td>2550</td>\n",
       "    </tr>\n",
       "    <tr>\n",
       "      <th>25797</th>\n",
       "      <td>ASC Incorporated</td>\n",
       "      <td>GNX</td>\n",
       "      <td>1987</td>\n",
       "      <td>3.8</td>\n",
       "      <td>6.0</td>\n",
       "      <td>Automatic 4-spd</td>\n",
       "      <td>Rear-Wheel Drive</td>\n",
       "      <td>Midsize Cars</td>\n",
       "      <td>Premium</td>\n",
       "      <td>20.600625</td>\n",
       "      <td>14</td>\n",
       "      <td>21</td>\n",
       "      <td>16</td>\n",
       "      <td>555.437500</td>\n",
       "      <td>2550</td>\n",
       "    </tr>\n",
       "  </tbody>\n",
       "</table>\n",
       "</div>"
      ],
      "text/plain": [
       "                   Make                Model  Year  Engine Displacement  \\\n",
       "19316        AM General    DJ Po Vehicle 2WD  1984                  2.5   \n",
       "19314        AM General     FJ8c Post Office  1984                  4.2   \n",
       "358          AM General  Post Office DJ5 2WD  1985                  2.5   \n",
       "369          AM General  Post Office DJ8 2WD  1985                  4.2   \n",
       "25797  ASC Incorporated                  GNX  1987                  3.8   \n",
       "\n",
       "       Cylinders     Transmission        Drivetrain  \\\n",
       "19316        4.0  Automatic 3-spd     2-Wheel Drive   \n",
       "19314        6.0  Automatic 3-spd     2-Wheel Drive   \n",
       "358          4.0  Automatic 3-spd  Rear-Wheel Drive   \n",
       "369          6.0  Automatic 3-spd  Rear-Wheel Drive   \n",
       "25797        6.0  Automatic 4-spd  Rear-Wheel Drive   \n",
       "\n",
       "                     Vehicle Class Fuel Type  Fuel Barrels/Year  City MPG  \\\n",
       "19316  Special Purpose Vehicle 2WD   Regular          19.388824        18   \n",
       "19314  Special Purpose Vehicle 2WD   Regular          25.354615        13   \n",
       "358    Special Purpose Vehicle 2WD   Regular          20.600625        16   \n",
       "369    Special Purpose Vehicle 2WD   Regular          25.354615        13   \n",
       "25797                 Midsize Cars   Premium          20.600625        14   \n",
       "\n",
       "       Highway MPG  Combined MPG  CO2 Emission Grams/Mile  Fuel Cost/Year  \n",
       "19316           17            17               522.764706            1950  \n",
       "19314           13            13               683.615385            2550  \n",
       "358             17            16               555.437500            2100  \n",
       "369             13            13               683.615385            2550  \n",
       "25797           21            16               555.437500            2550  "
      ]
     },
     "execution_count": 14,
     "metadata": {},
     "output_type": "execute_result"
    }
   ],
   "source": [
    "print(vehicles.shape)\n",
    "vehicles.head()"
   ]
  },
  {
   "cell_type": "markdown",
   "metadata": {},
   "source": [
    "## Aggregating to Higher-Level Categories"
   ]
  },
  {
   "cell_type": "code",
   "execution_count": 21,
   "metadata": {
    "collapsed": false
   },
   "outputs": [
    {
     "name": "stdout",
     "output_type": "stream",
     "text": [
      "Make | 126 | object\n",
      "Model | 3490 | object\n",
      "Year | 33 | int64\n",
      "Engine Displacement | 65 | float64\n",
      "Cylinders | 9 | float64\n",
      "Transmission | 44 | object\n",
      "Drivetrain | 7 | object\n",
      "Vehicle Class | 34 | object\n",
      "Fuel Type | 13 | object\n",
      "Fuel Barrels/Year | 116 | float64\n",
      "City MPG | 48 | int64\n",
      "Highway MPG | 49 | int64\n",
      "Combined MPG | 46 | int64\n",
      "CO2 Emission Grams/Mile | 550 | float64\n",
      "Fuel Cost/Year | 55 | int64\n"
     ]
    }
   ],
   "source": [
    "def unique_col_values(df):\n",
    "    for column in df:\n",
    "        print(\"{} | {} | {}\".format(\n",
    "            column, len(df[column].unique()), df[column].dtype))\n",
    "        \n",
    "unique_col_values(vehicles)"
   ]
  },
  {
   "cell_type": "code",
   "execution_count": 23,
   "metadata": {
    "collapsed": false
   },
   "outputs": [
    {
     "data": {
      "text/plain": [
       "Automatic 4-spd                     10582\n",
       "Manual 5-spd                         7764\n",
       "Automatic 3-spd                      2597\n",
       "Automatic (S6)                       2455\n",
       "Manual 6-spd                         2336\n",
       "Automatic 5-spd                      2171\n",
       "Automatic 6-spd                      1351\n",
       "Manual 4-spd                         1306\n",
       "Automatic (S5)                        822\n",
       "Automatic (S8)                        774\n",
       "Automatic (variable gear ratios)      643\n",
       "Automatic 7-spd                       630\n",
       "Automatic (S7)                        238\n",
       "Automatic (S4)                        229\n",
       "Auto(AM-S7)                           211\n",
       "Automatic 8-spd                       207\n",
       "Auto(AV-S6)                           135\n",
       "Auto(AM7)                             124\n",
       "Auto(AM6)                             103\n",
       "Auto(AM-S6)                            82\n",
       "Manual 3-spd                           74\n",
       "Manual 7-spd                           56\n",
       "Auto(AV-S7)                            54\n",
       "Automatic 9-spd                        54\n",
       "Auto(AV-S8)                            24\n",
       "Automatic (S9)                         17\n",
       "Auto(AM5)                              12\n",
       "Automatic (AV-S6)                       9\n",
       "Auto(AM-S8)                             4\n",
       "Automatic (AV)                          4\n",
       "Auto(AM8)                               4\n",
       "Automatic (A6)                          4\n",
       "Automatic (A1)                          3\n",
       "Manual(M7)                              2\n",
       "Automatic (AM5)                         2\n",
       "Auto (AV)                               2\n",
       "Auto(L4)                                2\n",
       "Auto(L3)                                2\n",
       "Auto (AV-S8)                            1\n",
       "Auto (AV-S6)                            1\n",
       "Manual 5 spd                            1\n",
       "Automatic (AM6)                         1\n",
       "Auto(A1)                                1\n",
       "Automatic 6spd                          1\n",
       "Name: Transmission, dtype: int64"
      ]
     },
     "execution_count": 23,
     "metadata": {},
     "output_type": "execute_result"
    }
   ],
   "source": [
    "vehicles['Transmission'].value_counts()"
   ]
  },
  {
   "cell_type": "code",
   "execution_count": 24,
   "metadata": {
    "collapsed": true
   },
   "outputs": [],
   "source": [
    "AUTOMATIC = \"Automatic\"\n",
    "MANUAL = \"Manual\"\n",
    "\n",
    "vehicles.loc[vehicles['Transmission'].str.startswith('Auto'),'Transmission Type'] = AUTOMATIC\n",
    "vehicles.loc[vehicles['Transmission'].str.startswith('Man'),'Transmission Type'] = MANUAL"
   ]
  },
  {
   "cell_type": "code",
   "execution_count": 26,
   "metadata": {
    "collapsed": false
   },
   "outputs": [
    {
     "data": {
      "text/plain": [
       "Automatic    23556\n",
       "Manual       11539\n",
       "Name: Transmission Type, dtype: int64"
      ]
     },
     "execution_count": 26,
     "metadata": {},
     "output_type": "execute_result"
    }
   ],
   "source": [
    "vehicles['Transmission Type'].value_counts()"
   ]
  },
  {
   "cell_type": "code",
   "execution_count": 27,
   "metadata": {
    "collapsed": false
   },
   "outputs": [
    {
     "data": {
      "text/plain": [
       "Compact Cars                          5048\n",
       "Subcompact Cars                       4273\n",
       "Midsize Cars                          3951\n",
       "Standard Pickup Trucks                2311\n",
       "Sport Utility Vehicle - 4WD           2081\n",
       "Two Seaters                           1724\n",
       "Large Cars                            1678\n",
       "Sport Utility Vehicle - 2WD           1615\n",
       "Special Purpose Vehicles              1404\n",
       "Small Station Wagons                  1344\n",
       "Minicompact Cars                      1165\n",
       "Standard Pickup Trucks 2WD            1125\n",
       "Vans                                  1121\n",
       "Standard Pickup Trucks 4WD             938\n",
       "Midsize-Large Station Wagons           633\n",
       "Special Purpose Vehicle 2WD            570\n",
       "Small Pickup Trucks                    524\n",
       "Vans, Cargo Type                       432\n",
       "Midsize Station Wagons                 413\n",
       "Small Sport Utility Vehicle 4WD        412\n",
       "Small Pickup Trucks 2WD                398\n",
       "Standard Sport Utility Vehicle 4WD     343\n",
       "Minivan - 2WD                          324\n",
       "Small Sport Utility Vehicle 2WD        319\n",
       "Vans, Passenger Type                   295\n",
       "Special Purpose Vehicle 4WD            254\n",
       "Small Pickup Trucks 4WD                195\n",
       "Standard Sport Utility Vehicle 2WD     148\n",
       "Minivan - 4WD                           46\n",
       "Standard Pickup Trucks/2wd               4\n",
       "Special Purpose Vehicles/2wd             2\n",
       "Special Purpose Vehicles/4wd             2\n",
       "Vans Passenger                           2\n",
       "Special Purpose Vehicle                  1\n",
       "Name: Vehicle Class, dtype: int64"
      ]
     },
     "execution_count": 27,
     "metadata": {},
     "output_type": "execute_result"
    }
   ],
   "source": [
    "vehicles['Vehicle Class'].value_counts()"
   ]
  },
  {
   "cell_type": "code",
   "execution_count": 36,
   "metadata": {
    "collapsed": false
   },
   "outputs": [
    {
     "data": {
      "text/plain": [
       "{'Large Cars': ['Large Cars'],\n",
       " 'Midsize Cars': ['Midsize Cars'],\n",
       " 'Small Cars': ['Compact Cars',\n",
       "  'Subcompact Cars',\n",
       "  'Two Seaters',\n",
       "  'Minicompact Cars']}"
      ]
     },
     "execution_count": 36,
     "metadata": {},
     "output_type": "execute_result"
    }
   ],
   "source": [
    "d = {}\n",
    "\n",
    "d['Small Cars'] = ['Compact Cars','Subcompact Cars','Two Seaters','Minicompact Cars']\n",
    "d['Midsize Cars'] = ['Midsize Cars']\n",
    "d['Large Cars'] = ['Large Cars']\n",
    "\n",
    "d"
   ]
  },
  {
   "cell_type": "code",
   "execution_count": 37,
   "metadata": {
    "collapsed": false
   },
   "outputs": [],
   "source": [
    "for k, v in d.items():\n",
    "    vehicles.loc[vehicles['Vehicle Class'].isin(v), 'Vehicle Category'] = k"
   ]
  },
  {
   "cell_type": "code",
   "execution_count": 39,
   "metadata": {
    "collapsed": false
   },
   "outputs": [
    {
     "data": {
      "text/plain": [
       "Small Cars      12210\n",
       "Midsize Cars     3951\n",
       "Large Cars       1678\n",
       "Name: Vehicle Category, dtype: int64"
      ]
     },
     "execution_count": 39,
     "metadata": {},
     "output_type": "execute_result"
    }
   ],
   "source": [
    "vehicles['Vehicle Category'].value_counts()"
   ]
  },
  {
   "cell_type": "code",
   "execution_count": 43,
   "metadata": {
    "collapsed": false
   },
   "outputs": [
    {
     "data": {
      "text/plain": [
       "19316      DJ Po Vehicle 2WD\n",
       "19314       FJ8c Post Office\n",
       "358      Post Office DJ5 2WD\n",
       "369      Post Office DJ8 2WD\n",
       "25797                    GNX\n",
       "3678             2.2CL/3.0CL\n",
       "3680             2.2CL/3.0CL\n",
       "3681             2.2CL/3.0CL\n",
       "4488             2.3CL/3.0CL\n",
       "4489             2.3CL/3.0CL\n",
       "4491             2.3CL/3.0CL\n",
       "5372             2.3CL/3.0CL\n",
       "5373             2.3CL/3.0CL\n",
       "5374             2.3CL/3.0CL\n",
       "1989                   2.5TL\n",
       "2972             2.5TL/3.2TL\n",
       "2973             2.5TL/3.2TL\n",
       "3803             2.5TL/3.2TL\n",
       "3804             2.5TL/3.2TL\n",
       "4627             2.5TL/3.2TL\n",
       "4628             2.5TL/3.2TL\n",
       "7304                   3.2CL\n",
       "8321                   3.2CL\n",
       "9398                   3.2CL\n",
       "9399                   3.2CL\n",
       "5633                   3.2TL\n",
       "6524                   3.2TL\n",
       "7483                   3.2TL\n",
       "8516                   3.2TL\n",
       "9588                   3.2TL\n",
       "                ...         \n",
       "20834              Wetl 850I\n",
       "20835              Wetl 850I\n",
       "35063        Wetl Testarossa\n",
       "20826        Wetl Testarossa\n",
       "31576                     GV\n",
       "31577                     GV\n",
       "20772      GV Plus/GV/Cabrio\n",
       "34106      GV Plus/GV/Cabrio\n",
       "23693                 GV/GVX\n",
       "32841                 GV/GVX\n",
       "32842                 GV/GVX\n",
       "8278             Gy/yugo GVX\n",
       "21784       fortwo cabriolet\n",
       "22973       fortwo cabriolet\n",
       "24362       fortwo cabriolet\n",
       "24563       fortwo cabriolet\n",
       "26885       fortwo cabriolet\n",
       "27444       fortwo cabriolet\n",
       "16657     fortwo convertible\n",
       "17923     fortwo convertible\n",
       "16658           fortwo coupe\n",
       "17924           fortwo coupe\n",
       "21785           fortwo coupe\n",
       "22974           fortwo coupe\n",
       "24361           fortwo coupe\n",
       "24562           fortwo coupe\n",
       "26884           fortwo coupe\n",
       "27443           fortwo coupe\n",
       "29608           fortwo coupe\n",
       "29609           fortwo coupe\n",
       "Name: Model, dtype: object"
      ]
     },
     "execution_count": 43,
     "metadata": {},
     "output_type": "execute_result"
    }
   ],
   "source": [
    "vehicles['Model']"
   ]
  },
  {
   "cell_type": "code",
   "execution_count": null,
   "metadata": {
    "collapsed": true
   },
   "outputs": [],
   "source": [
    "# Next, let's look at the Make and Model fields"
   ]
  }
 ],
 "metadata": {
  "kernelspec": {
   "display_name": "Python [Root]",
   "language": "python",
   "name": "Python [Root]"
  },
  "language_info": {
   "codemirror_mode": {
    "name": "ipython",
    "version": 3
   },
   "file_extension": ".py",
   "mimetype": "text/x-python",
   "name": "python",
   "nbconvert_exporter": "python",
   "pygments_lexer": "ipython3",
   "version": "3.5.2"
  }
 },
 "nbformat": 4,
 "nbformat_minor": 0
}
